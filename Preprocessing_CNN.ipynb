{
 "cells": [
  {
   "cell_type": "markdown",
   "id": "6bd3c576",
   "metadata": {},
   "source": [
    "### Processor\n",
    "* VOC_duration : 60sec\n",
    "* Wash_Out : 8min\n",
    "\n",
    "### Sensors\n",
    "+ TGS : TGS2600, TGS2602, TGS2603, TGS2610, TGS2620\n",
    "+ MQ : MQ2, MQ3, MQ4, MQ5, MQ6, MQ7, MQ8, MQ9, MQ135\n",
    "\n",
    "### VOC\n",
    "1. DPG ( 10%) + DPG (90%)\n",
    "2. Actetic (10%) + DPG (90%)\n",
    "3. Benzaldehyde (10%) + DPG (90%)\n",
    "4. Keras (10%) + DPG (90%)"
   ]
  },
  {
   "cell_type": "code",
   "execution_count": 1,
   "id": "4bc80fbf",
   "metadata": {},
   "outputs": [
    {
     "name": "stderr",
     "output_type": "stream",
     "text": [
      "2024-03-14 03:00:51.582259: I tensorflow/core/platform/cpu_feature_guard.cc:193] This TensorFlow binary is optimized with oneAPI Deep Neural Network Library (oneDNN) to use the following CPU instructions in performance-critical operations:  AVX2 FMA\n",
      "To enable them in other operations, rebuild TensorFlow with the appropriate compiler flags.\n",
      "2024-03-14 03:00:52.406528: W tensorflow/compiler/xla/stream_executor/platform/default/dso_loader.cc:64] Could not load dynamic library 'libnvinfer.so.7'; dlerror: libnvinfer.so.7: cannot open shared object file: No such file or directory; LD_LIBRARY_PATH: /usr/local/nvidia/lib64:/usr/local/cuda/lib64:/opt/conda/lib\n",
      "2024-03-14 03:00:52.406699: W tensorflow/compiler/xla/stream_executor/platform/default/dso_loader.cc:64] Could not load dynamic library 'libnvinfer_plugin.so.7'; dlerror: libnvinfer_plugin.so.7: cannot open shared object file: No such file or directory; LD_LIBRARY_PATH: /usr/local/nvidia/lib64:/usr/local/cuda/lib64:/opt/conda/lib\n",
      "2024-03-14 03:00:52.406705: W tensorflow/compiler/tf2tensorrt/utils/py_utils.cc:38] TF-TRT Warning: Cannot dlopen some TensorRT libraries. If you would like to use Nvidia GPU with TensorRT, please make sure the missing libraries mentioned above are installed properly.\n"
     ]
    }
   ],
   "source": [
    "%matplotlib inline\n",
    "\n",
    "from pathlib import Path\n",
    "from random import randint\n",
    "import numpy as np\n",
    "import pandas as pd\n",
    "from glob import glob\n",
    "from os.path import isdir\n",
    "from PIL import Image\n",
    "import os\n",
    "\n",
    "from sklearn.model_selection import train_test_split\n",
    "import tensorflow as tf\n",
    "from tensorflow.keras.models import Sequential\n",
    "from tensorflow.keras.preprocessing.image import ImageDataGenerator\n",
    "from tensorflow.keras.layers import Dense, Dropout, Flatten, Conv2D, MaxPooling2D\n",
    "from tensorflow.keras.callbacks import ModelCheckpoint, TensorBoard, EarlyStopping\n",
    "from tensorflow.keras.layers import BatchNormalization\n",
    "from tensorflow.keras import backend as K\n",
    "\n",
    "import matplotlib.pyplot as plt\n",
    "import seaborn as sns"
   ]
  },
  {
   "cell_type": "code",
   "execution_count": 2,
   "id": "cc4a5cee",
   "metadata": {},
   "outputs": [
    {
     "name": "stdout",
     "output_type": "stream",
     "text": [
      "Using GPU\n"
     ]
    },
    {
     "name": "stderr",
     "output_type": "stream",
     "text": [
      "2024-03-14 03:00:53.158503: I tensorflow/compiler/xla/stream_executor/cuda/cuda_gpu_executor.cc:981] successful NUMA node read from SysFS had negative value (-1), but there must be at least one NUMA node, so returning NUMA node zero\n",
      "2024-03-14 03:00:53.173856: I tensorflow/compiler/xla/stream_executor/cuda/cuda_gpu_executor.cc:981] successful NUMA node read from SysFS had negative value (-1), but there must be at least one NUMA node, so returning NUMA node zero\n",
      "2024-03-14 03:00:53.174032: I tensorflow/compiler/xla/stream_executor/cuda/cuda_gpu_executor.cc:981] successful NUMA node read from SysFS had negative value (-1), but there must be at least one NUMA node, so returning NUMA node zero\n"
     ]
    }
   ],
   "source": [
    "gpu_devices = tf.config.experimental.list_physical_devices('GPU')\n",
    "if gpu_devices:\n",
    "    print('Using GPU')\n",
    "    tf.config.experimental.set_memory_growth(gpu_devices[0], True)\n",
    "else:\n",
    "    print('Using CPU')"
   ]
  },
  {
   "cell_type": "code",
   "execution_count": 3,
   "id": "457bc72f",
   "metadata": {},
   "outputs": [],
   "source": [
    "def createDirectory(directory):\n",
    "    try:\n",
    "        if not os.path.exists(directory):\n",
    "            os.makedirs(directory, exist_ok=True)\n",
    "    except OSError:\n",
    "        print(\"Error: Failed to create the directory.\")"
   ]
  },
  {
   "cell_type": "code",
   "execution_count": 4,
   "id": "1ef983e6",
   "metadata": {},
   "outputs": [],
   "source": [
    "results_path = Path('results', '1min')\n",
    "if not results_path.exists():\n",
    "#     results_path.mkdir()\n",
    "    os.makedirs(results_path, exist_ok=True)"
   ]
  },
  {
   "cell_type": "code",
   "execution_count": 5,
   "id": "73256678",
   "metadata": {},
   "outputs": [],
   "source": [
    "data_dir = './data/1min'\n",
    "\n",
    "labels = {\n",
    "    0: 'DPG',\n",
    "    1: 'Acetic',\n",
    "    2: 'Benzaldehyde',\n",
    "    3: 'Keras'\n",
    "}\n",
    "\n",
    "# categories = ['DW', 'Acetic', 'Benzaldehyde', 'Keras']\n",
    "num_classes = len(labels)"
   ]
  },
  {
   "cell_type": "code",
   "execution_count": 6,
   "id": "ddb44a13",
   "metadata": {},
   "outputs": [],
   "source": [
    "# Image Size\n",
    "image_w = 64*3\n",
    "image_h = 64*3\n",
    "color = 3"
   ]
  },
  {
   "cell_type": "code",
   "execution_count": 7,
   "id": "7ad75248",
   "metadata": {},
   "outputs": [
    {
     "data": {
      "text/plain": [
       "(192, 192, 3)"
      ]
     },
     "execution_count": 7,
     "metadata": {},
     "output_type": "execute_result"
    }
   ],
   "source": [
    "input_shape = image_w, image_h, color\n",
    "input_shape"
   ]
  },
  {
   "cell_type": "code",
   "execution_count": 8,
   "id": "19619646",
   "metadata": {},
   "outputs": [
    {
     "data": {
      "text/plain": [
       "110592"
      ]
     },
     "execution_count": 8,
     "metadata": {},
     "output_type": "execute_result"
    }
   ],
   "source": [
    "# 펼치기\n",
    "pixels = image_w * image_h * color\n",
    "pixels"
   ]
  },
  {
   "cell_type": "code",
   "execution_count": 9,
   "id": "c177f2ba",
   "metadata": {
    "scrolled": true
   },
   "outputs": [
    {
     "name": "stdout",
     "output_type": "stream",
     "text": [
      "./data/1min/DPG\n",
      "DPG file length:  182\n",
      "0 : ./data/1min/DPG_1min_164.png\n",
      "./data/1min/Acetic\n",
      "Acetic file length:  182\n",
      "1 : ./data/1min/Acetic_1min_78.png\n",
      "./data/1min/Benzaldehyde\n",
      "Benzaldehyde file length:  181\n",
      "2 : ./data/1min/Benzaldehyde_1min_44.png\n",
      "./data/1min/Keras\n",
      "Keras file length:  181\n",
      "3 : ./data/1min/Keras_1min_82.png\n"
     ]
    }
   ],
   "source": [
    "X = []\n",
    "y = []\n",
    "for idx, label in enumerate(labels):\n",
    "    \n",
    "#     # One-hot 돌리기\n",
    "#     label = [0 for i in range(num_classes)]\n",
    "#     label[idx] = 1\n",
    "#     print(labels[idx])\n",
    "    \n",
    "    image_dir = data_dir + \"/\" + labels[idx]\n",
    "    print(image_dir)\n",
    "    files = glob(image_dir+\"_*.png\")\n",
    "#     print(files)\n",
    "    print(labels[idx], \"file length: \", len(files))\n",
    "    for i, f in enumerate(files):\n",
    "        img =Image.open(f)\n",
    "        img = img.convert(\"RGB\")\n",
    "        img = img.resize((image_w, image_h))\n",
    "        data = np.asarray(img)\n",
    "        \n",
    "        X.append(data)\n",
    "        y.append([label])\n",
    "#         print(data, label)\n",
    "        \n",
    "        if i % 700 == 0:\n",
    "            print(label, \":\", f)"
   ]
  },
  {
   "cell_type": "code",
   "execution_count": 10,
   "id": "ddfd76d8",
   "metadata": {},
   "outputs": [],
   "source": [
    "X = np.array(X)\n",
    "y = np.array(y)"
   ]
  },
  {
   "cell_type": "code",
   "execution_count": 11,
   "id": "309176d3",
   "metadata": {},
   "outputs": [
    {
     "data": {
      "text/plain": [
       "(726, 192, 192, 3)"
      ]
     },
     "execution_count": 11,
     "metadata": {},
     "output_type": "execute_result"
    }
   ],
   "source": [
    "X.shape"
   ]
  },
  {
   "cell_type": "code",
   "execution_count": 12,
   "id": "94966456",
   "metadata": {},
   "outputs": [
    {
     "data": {
      "text/plain": [
       "(726, 1)"
      ]
     },
     "execution_count": 12,
     "metadata": {},
     "output_type": "execute_result"
    }
   ],
   "source": [
    "y.shape"
   ]
  },
  {
   "cell_type": "code",
   "execution_count": 13,
   "id": "2525eb94",
   "metadata": {},
   "outputs": [],
   "source": [
    "xy = (X, y)"
   ]
  },
  {
   "cell_type": "code",
   "execution_count": 14,
   "id": "555ac3d4",
   "metadata": {
    "scrolled": true
   },
   "outputs": [
    {
     "data": {
      "text/plain": [
       "(array([[[[255, 255, 255],\n",
       "          [255, 255, 255],\n",
       "          [255, 255, 255],\n",
       "          ...,\n",
       "          [255, 255, 255],\n",
       "          [255, 255, 255],\n",
       "          [255, 255, 255]],\n",
       " \n",
       "         [[255, 255, 255],\n",
       "          [255, 255, 255],\n",
       "          [255, 255, 255],\n",
       "          ...,\n",
       "          [255, 255, 255],\n",
       "          [255, 255, 255],\n",
       "          [255, 255, 255]],\n",
       " \n",
       "         [[255, 255, 255],\n",
       "          [255, 255, 255],\n",
       "          [255, 255, 255],\n",
       "          ...,\n",
       "          [255, 255, 255],\n",
       "          [255, 255, 255],\n",
       "          [255, 255, 255]],\n",
       " \n",
       "         ...,\n",
       " \n",
       "         [[255, 255, 255],\n",
       "          [255, 255, 255],\n",
       "          [255, 255, 255],\n",
       "          ...,\n",
       "          [255, 255, 255],\n",
       "          [255, 255, 255],\n",
       "          [255, 255, 255]],\n",
       " \n",
       "         [[255, 255, 255],\n",
       "          [255, 255, 255],\n",
       "          [255, 255, 255],\n",
       "          ...,\n",
       "          [255, 255, 255],\n",
       "          [255, 255, 255],\n",
       "          [255, 255, 255]],\n",
       " \n",
       "         [[255, 255, 255],\n",
       "          [255, 255, 255],\n",
       "          [255, 255, 255],\n",
       "          ...,\n",
       "          [255, 255, 255],\n",
       "          [255, 255, 255],\n",
       "          [255, 255, 255]]],\n",
       " \n",
       " \n",
       "        [[[255, 255, 255],\n",
       "          [255, 255, 255],\n",
       "          [255, 255, 255],\n",
       "          ...,\n",
       "          [255, 255, 255],\n",
       "          [255, 255, 255],\n",
       "          [255, 255, 255]],\n",
       " \n",
       "         [[255, 255, 255],\n",
       "          [255, 255, 255],\n",
       "          [255, 255, 255],\n",
       "          ...,\n",
       "          [255, 255, 255],\n",
       "          [255, 255, 255],\n",
       "          [255, 255, 255]],\n",
       " \n",
       "         [[255, 255, 255],\n",
       "          [255, 255, 255],\n",
       "          [255, 255, 255],\n",
       "          ...,\n",
       "          [255, 255, 255],\n",
       "          [255, 255, 255],\n",
       "          [255, 255, 255]],\n",
       " \n",
       "         ...,\n",
       " \n",
       "         [[255, 255, 255],\n",
       "          [255, 255, 255],\n",
       "          [255, 255, 255],\n",
       "          ...,\n",
       "          [255, 255, 255],\n",
       "          [255, 255, 255],\n",
       "          [255, 255, 255]],\n",
       " \n",
       "         [[255, 255, 255],\n",
       "          [255, 255, 255],\n",
       "          [255, 255, 255],\n",
       "          ...,\n",
       "          [255, 255, 255],\n",
       "          [255, 255, 255],\n",
       "          [255, 255, 255]],\n",
       " \n",
       "         [[255, 255, 255],\n",
       "          [255, 255, 255],\n",
       "          [255, 255, 255],\n",
       "          ...,\n",
       "          [255, 255, 255],\n",
       "          [255, 255, 255],\n",
       "          [255, 255, 255]]],\n",
       " \n",
       " \n",
       "        [[[255, 255, 255],\n",
       "          [255, 255, 255],\n",
       "          [255, 255, 255],\n",
       "          ...,\n",
       "          [255, 255, 255],\n",
       "          [255, 255, 255],\n",
       "          [255, 255, 255]],\n",
       " \n",
       "         [[255, 255, 255],\n",
       "          [255, 255, 255],\n",
       "          [255, 255, 255],\n",
       "          ...,\n",
       "          [255, 255, 255],\n",
       "          [255, 255, 255],\n",
       "          [255, 255, 255]],\n",
       " \n",
       "         [[255, 255, 255],\n",
       "          [255, 255, 255],\n",
       "          [255, 255, 255],\n",
       "          ...,\n",
       "          [255, 255, 255],\n",
       "          [255, 255, 255],\n",
       "          [255, 255, 255]],\n",
       " \n",
       "         ...,\n",
       " \n",
       "         [[255, 255, 255],\n",
       "          [255, 255, 255],\n",
       "          [255, 255, 255],\n",
       "          ...,\n",
       "          [255, 255, 255],\n",
       "          [255, 255, 255],\n",
       "          [255, 255, 255]],\n",
       " \n",
       "         [[255, 255, 255],\n",
       "          [255, 255, 255],\n",
       "          [255, 255, 255],\n",
       "          ...,\n",
       "          [255, 255, 255],\n",
       "          [255, 255, 255],\n",
       "          [255, 255, 255]],\n",
       " \n",
       "         [[255, 255, 255],\n",
       "          [255, 255, 255],\n",
       "          [255, 255, 255],\n",
       "          ...,\n",
       "          [255, 255, 255],\n",
       "          [255, 255, 255],\n",
       "          [255, 255, 255]]],\n",
       " \n",
       " \n",
       "        ...,\n",
       " \n",
       " \n",
       "        [[[255, 255, 255],\n",
       "          [255, 255, 255],\n",
       "          [255, 255, 255],\n",
       "          ...,\n",
       "          [255, 255, 255],\n",
       "          [255, 255, 255],\n",
       "          [255, 255, 255]],\n",
       " \n",
       "         [[255, 255, 255],\n",
       "          [255, 255, 255],\n",
       "          [255, 255, 255],\n",
       "          ...,\n",
       "          [255, 255, 255],\n",
       "          [255, 255, 255],\n",
       "          [255, 255, 255]],\n",
       " \n",
       "         [[255, 255, 255],\n",
       "          [255, 255, 255],\n",
       "          [255, 255, 255],\n",
       "          ...,\n",
       "          [255, 255, 255],\n",
       "          [255, 255, 255],\n",
       "          [255, 255, 255]],\n",
       " \n",
       "         ...,\n",
       " \n",
       "         [[255, 255, 255],\n",
       "          [255, 255, 255],\n",
       "          [255, 255, 255],\n",
       "          ...,\n",
       "          [255, 255, 255],\n",
       "          [255, 255, 255],\n",
       "          [255, 255, 255]],\n",
       " \n",
       "         [[255, 255, 255],\n",
       "          [255, 255, 255],\n",
       "          [255, 255, 255],\n",
       "          ...,\n",
       "          [255, 255, 255],\n",
       "          [255, 255, 255],\n",
       "          [255, 255, 255]],\n",
       " \n",
       "         [[255, 255, 255],\n",
       "          [255, 255, 255],\n",
       "          [255, 255, 255],\n",
       "          ...,\n",
       "          [255, 255, 255],\n",
       "          [255, 255, 255],\n",
       "          [255, 255, 255]]],\n",
       " \n",
       " \n",
       "        [[[255, 255, 255],\n",
       "          [255, 255, 255],\n",
       "          [255, 255, 255],\n",
       "          ...,\n",
       "          [255, 255, 255],\n",
       "          [255, 255, 255],\n",
       "          [255, 255, 255]],\n",
       " \n",
       "         [[255, 255, 255],\n",
       "          [255, 255, 255],\n",
       "          [255, 255, 255],\n",
       "          ...,\n",
       "          [255, 255, 255],\n",
       "          [255, 255, 255],\n",
       "          [255, 255, 255]],\n",
       " \n",
       "         [[255, 255, 255],\n",
       "          [255, 255, 255],\n",
       "          [255, 255, 255],\n",
       "          ...,\n",
       "          [255, 255, 255],\n",
       "          [255, 255, 255],\n",
       "          [255, 255, 255]],\n",
       " \n",
       "         ...,\n",
       " \n",
       "         [[255, 255, 255],\n",
       "          [255, 255, 255],\n",
       "          [255, 255, 255],\n",
       "          ...,\n",
       "          [255, 255, 255],\n",
       "          [255, 255, 255],\n",
       "          [255, 255, 255]],\n",
       " \n",
       "         [[255, 255, 255],\n",
       "          [255, 255, 255],\n",
       "          [255, 255, 255],\n",
       "          ...,\n",
       "          [255, 255, 255],\n",
       "          [255, 255, 255],\n",
       "          [255, 255, 255]],\n",
       " \n",
       "         [[255, 255, 255],\n",
       "          [255, 255, 255],\n",
       "          [255, 255, 255],\n",
       "          ...,\n",
       "          [255, 255, 255],\n",
       "          [255, 255, 255],\n",
       "          [255, 255, 255]]],\n",
       " \n",
       " \n",
       "        [[[255, 255, 255],\n",
       "          [255, 255, 255],\n",
       "          [255, 255, 255],\n",
       "          ...,\n",
       "          [255, 255, 255],\n",
       "          [255, 255, 255],\n",
       "          [255, 255, 255]],\n",
       " \n",
       "         [[255, 255, 255],\n",
       "          [255, 255, 255],\n",
       "          [255, 255, 255],\n",
       "          ...,\n",
       "          [255, 255, 255],\n",
       "          [255, 255, 255],\n",
       "          [255, 255, 255]],\n",
       " \n",
       "         [[255, 255, 255],\n",
       "          [255, 255, 255],\n",
       "          [255, 255, 255],\n",
       "          ...,\n",
       "          [255, 255, 255],\n",
       "          [255, 255, 255],\n",
       "          [255, 255, 255]],\n",
       " \n",
       "         ...,\n",
       " \n",
       "         [[255, 255, 255],\n",
       "          [255, 255, 255],\n",
       "          [255, 255, 255],\n",
       "          ...,\n",
       "          [255, 255, 255],\n",
       "          [255, 255, 255],\n",
       "          [255, 255, 255]],\n",
       " \n",
       "         [[255, 255, 255],\n",
       "          [255, 255, 255],\n",
       "          [255, 255, 255],\n",
       "          ...,\n",
       "          [255, 255, 255],\n",
       "          [255, 255, 255],\n",
       "          [255, 255, 255]],\n",
       " \n",
       "         [[255, 255, 255],\n",
       "          [255, 255, 255],\n",
       "          [255, 255, 255],\n",
       "          ...,\n",
       "          [255, 255, 255],\n",
       "          [255, 255, 255],\n",
       "          [255, 255, 255]]]], dtype=uint8),\n",
       " array([[0],\n",
       "        [0],\n",
       "        [0],\n",
       "        [0],\n",
       "        [0],\n",
       "        [0],\n",
       "        [0],\n",
       "        [0],\n",
       "        [0],\n",
       "        [0],\n",
       "        [0],\n",
       "        [0],\n",
       "        [0],\n",
       "        [0],\n",
       "        [0],\n",
       "        [0],\n",
       "        [0],\n",
       "        [0],\n",
       "        [0],\n",
       "        [0],\n",
       "        [0],\n",
       "        [0],\n",
       "        [0],\n",
       "        [0],\n",
       "        [0],\n",
       "        [0],\n",
       "        [0],\n",
       "        [0],\n",
       "        [0],\n",
       "        [0],\n",
       "        [0],\n",
       "        [0],\n",
       "        [0],\n",
       "        [0],\n",
       "        [0],\n",
       "        [0],\n",
       "        [0],\n",
       "        [0],\n",
       "        [0],\n",
       "        [0],\n",
       "        [0],\n",
       "        [0],\n",
       "        [0],\n",
       "        [0],\n",
       "        [0],\n",
       "        [0],\n",
       "        [0],\n",
       "        [0],\n",
       "        [0],\n",
       "        [0],\n",
       "        [0],\n",
       "        [0],\n",
       "        [0],\n",
       "        [0],\n",
       "        [0],\n",
       "        [0],\n",
       "        [0],\n",
       "        [0],\n",
       "        [0],\n",
       "        [0],\n",
       "        [0],\n",
       "        [0],\n",
       "        [0],\n",
       "        [0],\n",
       "        [0],\n",
       "        [0],\n",
       "        [0],\n",
       "        [0],\n",
       "        [0],\n",
       "        [0],\n",
       "        [0],\n",
       "        [0],\n",
       "        [0],\n",
       "        [0],\n",
       "        [0],\n",
       "        [0],\n",
       "        [0],\n",
       "        [0],\n",
       "        [0],\n",
       "        [0],\n",
       "        [0],\n",
       "        [0],\n",
       "        [0],\n",
       "        [0],\n",
       "        [0],\n",
       "        [0],\n",
       "        [0],\n",
       "        [0],\n",
       "        [0],\n",
       "        [0],\n",
       "        [0],\n",
       "        [0],\n",
       "        [0],\n",
       "        [0],\n",
       "        [0],\n",
       "        [0],\n",
       "        [0],\n",
       "        [0],\n",
       "        [0],\n",
       "        [0],\n",
       "        [0],\n",
       "        [0],\n",
       "        [0],\n",
       "        [0],\n",
       "        [0],\n",
       "        [0],\n",
       "        [0],\n",
       "        [0],\n",
       "        [0],\n",
       "        [0],\n",
       "        [0],\n",
       "        [0],\n",
       "        [0],\n",
       "        [0],\n",
       "        [0],\n",
       "        [0],\n",
       "        [0],\n",
       "        [0],\n",
       "        [0],\n",
       "        [0],\n",
       "        [0],\n",
       "        [0],\n",
       "        [0],\n",
       "        [0],\n",
       "        [0],\n",
       "        [0],\n",
       "        [0],\n",
       "        [0],\n",
       "        [0],\n",
       "        [0],\n",
       "        [0],\n",
       "        [0],\n",
       "        [0],\n",
       "        [0],\n",
       "        [0],\n",
       "        [0],\n",
       "        [0],\n",
       "        [0],\n",
       "        [0],\n",
       "        [0],\n",
       "        [0],\n",
       "        [0],\n",
       "        [0],\n",
       "        [0],\n",
       "        [0],\n",
       "        [0],\n",
       "        [0],\n",
       "        [0],\n",
       "        [0],\n",
       "        [0],\n",
       "        [0],\n",
       "        [0],\n",
       "        [0],\n",
       "        [0],\n",
       "        [0],\n",
       "        [0],\n",
       "        [0],\n",
       "        [0],\n",
       "        [0],\n",
       "        [0],\n",
       "        [0],\n",
       "        [0],\n",
       "        [0],\n",
       "        [0],\n",
       "        [0],\n",
       "        [0],\n",
       "        [0],\n",
       "        [0],\n",
       "        [0],\n",
       "        [0],\n",
       "        [0],\n",
       "        [0],\n",
       "        [0],\n",
       "        [0],\n",
       "        [0],\n",
       "        [0],\n",
       "        [0],\n",
       "        [0],\n",
       "        [0],\n",
       "        [0],\n",
       "        [0],\n",
       "        [0],\n",
       "        [1],\n",
       "        [1],\n",
       "        [1],\n",
       "        [1],\n",
       "        [1],\n",
       "        [1],\n",
       "        [1],\n",
       "        [1],\n",
       "        [1],\n",
       "        [1],\n",
       "        [1],\n",
       "        [1],\n",
       "        [1],\n",
       "        [1],\n",
       "        [1],\n",
       "        [1],\n",
       "        [1],\n",
       "        [1],\n",
       "        [1],\n",
       "        [1],\n",
       "        [1],\n",
       "        [1],\n",
       "        [1],\n",
       "        [1],\n",
       "        [1],\n",
       "        [1],\n",
       "        [1],\n",
       "        [1],\n",
       "        [1],\n",
       "        [1],\n",
       "        [1],\n",
       "        [1],\n",
       "        [1],\n",
       "        [1],\n",
       "        [1],\n",
       "        [1],\n",
       "        [1],\n",
       "        [1],\n",
       "        [1],\n",
       "        [1],\n",
       "        [1],\n",
       "        [1],\n",
       "        [1],\n",
       "        [1],\n",
       "        [1],\n",
       "        [1],\n",
       "        [1],\n",
       "        [1],\n",
       "        [1],\n",
       "        [1],\n",
       "        [1],\n",
       "        [1],\n",
       "        [1],\n",
       "        [1],\n",
       "        [1],\n",
       "        [1],\n",
       "        [1],\n",
       "        [1],\n",
       "        [1],\n",
       "        [1],\n",
       "        [1],\n",
       "        [1],\n",
       "        [1],\n",
       "        [1],\n",
       "        [1],\n",
       "        [1],\n",
       "        [1],\n",
       "        [1],\n",
       "        [1],\n",
       "        [1],\n",
       "        [1],\n",
       "        [1],\n",
       "        [1],\n",
       "        [1],\n",
       "        [1],\n",
       "        [1],\n",
       "        [1],\n",
       "        [1],\n",
       "        [1],\n",
       "        [1],\n",
       "        [1],\n",
       "        [1],\n",
       "        [1],\n",
       "        [1],\n",
       "        [1],\n",
       "        [1],\n",
       "        [1],\n",
       "        [1],\n",
       "        [1],\n",
       "        [1],\n",
       "        [1],\n",
       "        [1],\n",
       "        [1],\n",
       "        [1],\n",
       "        [1],\n",
       "        [1],\n",
       "        [1],\n",
       "        [1],\n",
       "        [1],\n",
       "        [1],\n",
       "        [1],\n",
       "        [1],\n",
       "        [1],\n",
       "        [1],\n",
       "        [1],\n",
       "        [1],\n",
       "        [1],\n",
       "        [1],\n",
       "        [1],\n",
       "        [1],\n",
       "        [1],\n",
       "        [1],\n",
       "        [1],\n",
       "        [1],\n",
       "        [1],\n",
       "        [1],\n",
       "        [1],\n",
       "        [1],\n",
       "        [1],\n",
       "        [1],\n",
       "        [1],\n",
       "        [1],\n",
       "        [1],\n",
       "        [1],\n",
       "        [1],\n",
       "        [1],\n",
       "        [1],\n",
       "        [1],\n",
       "        [1],\n",
       "        [1],\n",
       "        [1],\n",
       "        [1],\n",
       "        [1],\n",
       "        [1],\n",
       "        [1],\n",
       "        [1],\n",
       "        [1],\n",
       "        [1],\n",
       "        [1],\n",
       "        [1],\n",
       "        [1],\n",
       "        [1],\n",
       "        [1],\n",
       "        [1],\n",
       "        [1],\n",
       "        [1],\n",
       "        [1],\n",
       "        [1],\n",
       "        [1],\n",
       "        [1],\n",
       "        [1],\n",
       "        [1],\n",
       "        [1],\n",
       "        [1],\n",
       "        [1],\n",
       "        [1],\n",
       "        [1],\n",
       "        [1],\n",
       "        [1],\n",
       "        [1],\n",
       "        [1],\n",
       "        [1],\n",
       "        [1],\n",
       "        [1],\n",
       "        [1],\n",
       "        [1],\n",
       "        [1],\n",
       "        [1],\n",
       "        [1],\n",
       "        [1],\n",
       "        [1],\n",
       "        [1],\n",
       "        [1],\n",
       "        [1],\n",
       "        [1],\n",
       "        [1],\n",
       "        [1],\n",
       "        [1],\n",
       "        [1],\n",
       "        [1],\n",
       "        [1],\n",
       "        [1],\n",
       "        [2],\n",
       "        [2],\n",
       "        [2],\n",
       "        [2],\n",
       "        [2],\n",
       "        [2],\n",
       "        [2],\n",
       "        [2],\n",
       "        [2],\n",
       "        [2],\n",
       "        [2],\n",
       "        [2],\n",
       "        [2],\n",
       "        [2],\n",
       "        [2],\n",
       "        [2],\n",
       "        [2],\n",
       "        [2],\n",
       "        [2],\n",
       "        [2],\n",
       "        [2],\n",
       "        [2],\n",
       "        [2],\n",
       "        [2],\n",
       "        [2],\n",
       "        [2],\n",
       "        [2],\n",
       "        [2],\n",
       "        [2],\n",
       "        [2],\n",
       "        [2],\n",
       "        [2],\n",
       "        [2],\n",
       "        [2],\n",
       "        [2],\n",
       "        [2],\n",
       "        [2],\n",
       "        [2],\n",
       "        [2],\n",
       "        [2],\n",
       "        [2],\n",
       "        [2],\n",
       "        [2],\n",
       "        [2],\n",
       "        [2],\n",
       "        [2],\n",
       "        [2],\n",
       "        [2],\n",
       "        [2],\n",
       "        [2],\n",
       "        [2],\n",
       "        [2],\n",
       "        [2],\n",
       "        [2],\n",
       "        [2],\n",
       "        [2],\n",
       "        [2],\n",
       "        [2],\n",
       "        [2],\n",
       "        [2],\n",
       "        [2],\n",
       "        [2],\n",
       "        [2],\n",
       "        [2],\n",
       "        [2],\n",
       "        [2],\n",
       "        [2],\n",
       "        [2],\n",
       "        [2],\n",
       "        [2],\n",
       "        [2],\n",
       "        [2],\n",
       "        [2],\n",
       "        [2],\n",
       "        [2],\n",
       "        [2],\n",
       "        [2],\n",
       "        [2],\n",
       "        [2],\n",
       "        [2],\n",
       "        [2],\n",
       "        [2],\n",
       "        [2],\n",
       "        [2],\n",
       "        [2],\n",
       "        [2],\n",
       "        [2],\n",
       "        [2],\n",
       "        [2],\n",
       "        [2],\n",
       "        [2],\n",
       "        [2],\n",
       "        [2],\n",
       "        [2],\n",
       "        [2],\n",
       "        [2],\n",
       "        [2],\n",
       "        [2],\n",
       "        [2],\n",
       "        [2],\n",
       "        [2],\n",
       "        [2],\n",
       "        [2],\n",
       "        [2],\n",
       "        [2],\n",
       "        [2],\n",
       "        [2],\n",
       "        [2],\n",
       "        [2],\n",
       "        [2],\n",
       "        [2],\n",
       "        [2],\n",
       "        [2],\n",
       "        [2],\n",
       "        [2],\n",
       "        [2],\n",
       "        [2],\n",
       "        [2],\n",
       "        [2],\n",
       "        [2],\n",
       "        [2],\n",
       "        [2],\n",
       "        [2],\n",
       "        [2],\n",
       "        [2],\n",
       "        [2],\n",
       "        [2],\n",
       "        [2],\n",
       "        [2],\n",
       "        [2],\n",
       "        [2],\n",
       "        [2],\n",
       "        [2],\n",
       "        [2],\n",
       "        [2],\n",
       "        [2],\n",
       "        [2],\n",
       "        [2],\n",
       "        [2],\n",
       "        [2],\n",
       "        [2],\n",
       "        [2],\n",
       "        [2],\n",
       "        [2],\n",
       "        [2],\n",
       "        [2],\n",
       "        [2],\n",
       "        [2],\n",
       "        [2],\n",
       "        [2],\n",
       "        [2],\n",
       "        [2],\n",
       "        [2],\n",
       "        [2],\n",
       "        [2],\n",
       "        [2],\n",
       "        [2],\n",
       "        [2],\n",
       "        [2],\n",
       "        [2],\n",
       "        [2],\n",
       "        [2],\n",
       "        [2],\n",
       "        [2],\n",
       "        [2],\n",
       "        [2],\n",
       "        [2],\n",
       "        [2],\n",
       "        [2],\n",
       "        [2],\n",
       "        [2],\n",
       "        [2],\n",
       "        [2],\n",
       "        [2],\n",
       "        [2],\n",
       "        [2],\n",
       "        [2],\n",
       "        [2],\n",
       "        [2],\n",
       "        [2],\n",
       "        [2],\n",
       "        [3],\n",
       "        [3],\n",
       "        [3],\n",
       "        [3],\n",
       "        [3],\n",
       "        [3],\n",
       "        [3],\n",
       "        [3],\n",
       "        [3],\n",
       "        [3],\n",
       "        [3],\n",
       "        [3],\n",
       "        [3],\n",
       "        [3],\n",
       "        [3],\n",
       "        [3],\n",
       "        [3],\n",
       "        [3],\n",
       "        [3],\n",
       "        [3],\n",
       "        [3],\n",
       "        [3],\n",
       "        [3],\n",
       "        [3],\n",
       "        [3],\n",
       "        [3],\n",
       "        [3],\n",
       "        [3],\n",
       "        [3],\n",
       "        [3],\n",
       "        [3],\n",
       "        [3],\n",
       "        [3],\n",
       "        [3],\n",
       "        [3],\n",
       "        [3],\n",
       "        [3],\n",
       "        [3],\n",
       "        [3],\n",
       "        [3],\n",
       "        [3],\n",
       "        [3],\n",
       "        [3],\n",
       "        [3],\n",
       "        [3],\n",
       "        [3],\n",
       "        [3],\n",
       "        [3],\n",
       "        [3],\n",
       "        [3],\n",
       "        [3],\n",
       "        [3],\n",
       "        [3],\n",
       "        [3],\n",
       "        [3],\n",
       "        [3],\n",
       "        [3],\n",
       "        [3],\n",
       "        [3],\n",
       "        [3],\n",
       "        [3],\n",
       "        [3],\n",
       "        [3],\n",
       "        [3],\n",
       "        [3],\n",
       "        [3],\n",
       "        [3],\n",
       "        [3],\n",
       "        [3],\n",
       "        [3],\n",
       "        [3],\n",
       "        [3],\n",
       "        [3],\n",
       "        [3],\n",
       "        [3],\n",
       "        [3],\n",
       "        [3],\n",
       "        [3],\n",
       "        [3],\n",
       "        [3],\n",
       "        [3],\n",
       "        [3],\n",
       "        [3],\n",
       "        [3],\n",
       "        [3],\n",
       "        [3],\n",
       "        [3],\n",
       "        [3],\n",
       "        [3],\n",
       "        [3],\n",
       "        [3],\n",
       "        [3],\n",
       "        [3],\n",
       "        [3],\n",
       "        [3],\n",
       "        [3],\n",
       "        [3],\n",
       "        [3],\n",
       "        [3],\n",
       "        [3],\n",
       "        [3],\n",
       "        [3],\n",
       "        [3],\n",
       "        [3],\n",
       "        [3],\n",
       "        [3],\n",
       "        [3],\n",
       "        [3],\n",
       "        [3],\n",
       "        [3],\n",
       "        [3],\n",
       "        [3],\n",
       "        [3],\n",
       "        [3],\n",
       "        [3],\n",
       "        [3],\n",
       "        [3],\n",
       "        [3],\n",
       "        [3],\n",
       "        [3],\n",
       "        [3],\n",
       "        [3],\n",
       "        [3],\n",
       "        [3],\n",
       "        [3],\n",
       "        [3],\n",
       "        [3],\n",
       "        [3],\n",
       "        [3],\n",
       "        [3],\n",
       "        [3],\n",
       "        [3],\n",
       "        [3],\n",
       "        [3],\n",
       "        [3],\n",
       "        [3],\n",
       "        [3],\n",
       "        [3],\n",
       "        [3],\n",
       "        [3],\n",
       "        [3],\n",
       "        [3],\n",
       "        [3],\n",
       "        [3],\n",
       "        [3],\n",
       "        [3],\n",
       "        [3],\n",
       "        [3],\n",
       "        [3],\n",
       "        [3],\n",
       "        [3],\n",
       "        [3],\n",
       "        [3],\n",
       "        [3],\n",
       "        [3],\n",
       "        [3],\n",
       "        [3],\n",
       "        [3],\n",
       "        [3],\n",
       "        [3],\n",
       "        [3],\n",
       "        [3],\n",
       "        [3],\n",
       "        [3],\n",
       "        [3],\n",
       "        [3],\n",
       "        [3],\n",
       "        [3],\n",
       "        [3],\n",
       "        [3],\n",
       "        [3],\n",
       "        [3],\n",
       "        [3],\n",
       "        [3],\n",
       "        [3],\n",
       "        [3],\n",
       "        [3],\n",
       "        [3],\n",
       "        [3],\n",
       "        [3],\n",
       "        [3]]))"
      ]
     },
     "execution_count": 14,
     "metadata": {},
     "output_type": "execute_result"
    }
   ],
   "source": [
    "xy"
   ]
  },
  {
   "cell_type": "code",
   "execution_count": 15,
   "id": "5c4995d1",
   "metadata": {},
   "outputs": [],
   "source": [
    "# np.save(\"./data/1min/dataset/1min_data.npy\", xy)\n",
    "# print(\"ok\", len(y))"
   ]
  },
  {
   "cell_type": "code",
   "execution_count": 16,
   "id": "0ef99dab",
   "metadata": {},
   "outputs": [],
   "source": [
    "# X_train, X_test, y_train, y_test = train_test_split(X, y)\n",
    "X_train, X_test, y_train, y_test = train_test_split(X, y, test_size=0.1, random_state=24, shuffle=True)"
   ]
  },
  {
   "cell_type": "code",
   "execution_count": 17,
   "id": "3025ec06",
   "metadata": {},
   "outputs": [
    {
     "name": "stdout",
     "output_type": "stream",
     "text": [
      "The Database has a training set of 653 examples.\n",
      "The Database has a test set of 73 examples.\n"
     ]
    }
   ],
   "source": [
    "print(\"The Database has a training set of %d examples.\" % len(X_train))\n",
    "print(\"The Database has a test set of %d examples.\" % len(X_test))"
   ]
  },
  {
   "cell_type": "code",
   "execution_count": 18,
   "id": "5f06d5d4",
   "metadata": {},
   "outputs": [],
   "source": [
    "# xy = (X_train, X_test, y_train, y_test)"
   ]
  },
  {
   "cell_type": "code",
   "execution_count": 19,
   "id": "a5366317",
   "metadata": {},
   "outputs": [
    {
     "name": "stdout",
     "output_type": "stream",
     "text": [
      "(653, 192, 192, 3)\n",
      "(653, 1)\n",
      "(73, 192, 192, 3)\n",
      "(73, 1)\n"
     ]
    }
   ],
   "source": [
    "print(X_train.shape)\n",
    "print(y_train.shape)\n",
    "print(X_test.shape)\n",
    "print(y_test.shape)"
   ]
  },
  {
   "cell_type": "code",
   "execution_count": 20,
   "id": "7b284132",
   "metadata": {},
   "outputs": [],
   "source": [
    "# np.save(\"./data/1min/dataset/1min_data.npy\", xy)\n",
    "# print(\"ok\", len(y))"
   ]
  },
  {
   "cell_type": "markdown",
   "id": "a2d2cabd",
   "metadata": {},
   "source": [
    "## Visualize Data"
   ]
  },
  {
   "cell_type": "markdown",
   "id": "8b4e5557",
   "metadata": {},
   "source": [
    "### Visualize First 10 Training Images"
   ]
  },
  {
   "cell_type": "markdown",
   "id": "bfb80c09",
   "metadata": {},
   "source": [
    "The below figure shows the first ten images in the dataset and highlights significant variation among instances of the same digit. On the right, it shows how the pixel values for an indivual image range from 0 to 255."
   ]
  },
  {
   "cell_type": "markdown",
   "id": "fda3899f",
   "metadata": {},
   "source": [
    "### Show random image in detail"
   ]
  },
  {
   "cell_type": "code",
   "execution_count": 21,
   "id": "33f32ebe",
   "metadata": {},
   "outputs": [],
   "source": [
    "# plt.imshow(np.squeeze(X_train[0]))"
   ]
  },
  {
   "cell_type": "code",
   "execution_count": 22,
   "id": "c93518d7",
   "metadata": {},
   "outputs": [
    {
     "data": {
      "text/plain": [
       "2"
      ]
     },
     "execution_count": 22,
     "metadata": {},
     "output_type": "execute_result"
    }
   ],
   "source": [
    "y_train[0, 0]"
   ]
  },
  {
   "cell_type": "code",
   "execution_count": 23,
   "id": "959a033c",
   "metadata": {},
   "outputs": [
    {
     "data": {
      "image/png": "[encoded data removed]",
      "text/plain": [
       "<Figure size 2000x1000 with 30 Axes>"
      ]
     },
     "metadata": {},
     "output_type": "display_data"
    }
   ],
   "source": [
    "fig, axes = plt.subplots(nrows=3, ncols=10, figsize=(20, 10))\n",
    "axes = axes.flatten()\n",
    "for i, ax in enumerate(axes):\n",
    "    ax.imshow(np.squeeze(X_train[i]))\n",
    "    ax.axis('off')\n",
    "#     print(y_train[i, 0])\n",
    "    ax.set_title(labels[y_train[i, 0]])"
   ]
  },
  {
   "cell_type": "markdown",
   "id": "e6a80bb5",
   "metadata": {},
   "source": [
    "### Rescale the Images"
   ]
  },
  {
   "cell_type": "code",
   "execution_count": 24,
   "id": "b82b6021",
   "metadata": {},
   "outputs": [],
   "source": [
    "# rescale [0,255] --> [0,1]\n",
    "X_train = X_train.astype('float32') / 255\n",
    "X_test = X_test.astype('float32') / 255"
   ]
  },
  {
   "cell_type": "markdown",
   "id": "e4835fca",
   "metadata": {},
   "source": [
    "### Train-Test split"
   ]
  },
  {
   "cell_type": "code",
   "execution_count": 25,
   "id": "bd677e61",
   "metadata": {},
   "outputs": [],
   "source": [
    "Split_Num = 80"
   ]
  },
  {
   "cell_type": "code",
   "execution_count": 26,
   "id": "02abb788",
   "metadata": {},
   "outputs": [],
   "source": [
    "X_train, X_valid = X_train[Split_Num:], X_train[:Split_Num]\n",
    "y_train, y_valid = y_train[Split_Num:], y_train[:Split_Num]"
   ]
  },
  {
   "cell_type": "code",
   "execution_count": 27,
   "id": "a319f5ef",
   "metadata": {},
   "outputs": [
    {
     "data": {
      "text/plain": [
       "(573, 192, 192, 3)"
      ]
     },
     "execution_count": 27,
     "metadata": {},
     "output_type": "execute_result"
    }
   ],
   "source": [
    "# shape of training set\n",
    "X_train.shape"
   ]
  },
  {
   "cell_type": "code",
   "execution_count": 28,
   "id": "5c26cc43",
   "metadata": {},
   "outputs": [
    {
     "name": "stdout",
     "output_type": "stream",
     "text": [
      "573 train samples\n",
      "73 test samples\n",
      "80 validation samples\n"
     ]
    }
   ],
   "source": [
    "print(X_train.shape[0], 'train samples')\n",
    "print(X_test.shape[0], 'test samples')\n",
    "print(X_valid.shape[0], 'validation samples')"
   ]
  },
  {
   "cell_type": "markdown",
   "id": "7058c207",
   "metadata": {},
   "source": [
    "## 1) Feedforward Neural Network"
   ]
  },
  {
   "cell_type": "markdown",
   "id": "ea8dcede",
   "metadata": {},
   "source": [
    "### Model Architecture "
   ]
  },
  {
   "cell_type": "code",
   "execution_count": 29,
   "id": "284ecdaf",
   "metadata": {},
   "outputs": [
    {
     "name": "stderr",
     "output_type": "stream",
     "text": [
      "2024-03-14 03:01:05.397367: I tensorflow/core/platform/cpu_feature_guard.cc:193] This TensorFlow binary is optimized with oneAPI Deep Neural Network Library (oneDNN) to use the following CPU instructions in performance-critical operations:  AVX2 FMA\n",
      "To enable them in other operations, rebuild TensorFlow with the appropriate compiler flags.\n",
      "2024-03-14 03:01:05.399064: I tensorflow/compiler/xla/stream_executor/cuda/cuda_gpu_executor.cc:981] successful NUMA node read from SysFS had negative value (-1), but there must be at least one NUMA node, so returning NUMA node zero\n",
      "2024-03-14 03:01:05.399274: I tensorflow/compiler/xla/stream_executor/cuda/cuda_gpu_executor.cc:981] successful NUMA node read from SysFS had negative value (-1), but there must be at least one NUMA node, so returning NUMA node zero\n",
      "2024-03-14 03:01:05.399431: I tensorflow/compiler/xla/stream_executor/cuda/cuda_gpu_executor.cc:981] successful NUMA node read from SysFS had negative value (-1), but there must be at least one NUMA node, so returning NUMA node zero\n",
      "2024-03-14 03:01:05.978605: I tensorflow/compiler/xla/stream_executor/cuda/cuda_gpu_executor.cc:981] successful NUMA node read from SysFS had negative value (-1), but there must be at least one NUMA node, so returning NUMA node zero\n",
      "2024-03-14 03:01:05.978955: I tensorflow/compiler/xla/stream_executor/cuda/cuda_gpu_executor.cc:981] successful NUMA node read from SysFS had negative value (-1), but there must be at least one NUMA node, so returning NUMA node zero\n",
      "2024-03-14 03:01:05.979119: I tensorflow/compiler/xla/stream_executor/cuda/cuda_gpu_executor.cc:981] successful NUMA node read from SysFS had negative value (-1), but there must be at least one NUMA node, so returning NUMA node zero\n",
      "2024-03-14 03:01:05.979380: I tensorflow/core/common_runtime/gpu/gpu_device.cc:1613] Created device /job:localhost/replica:0/task:0/device:GPU:0 with 9658 MB memory:  -> device: 0, name: NVIDIA GeForce RTX 3080 Ti, pci bus id: 0000:0b:00.0, compute capability: 8.6\n"
     ]
    }
   ],
   "source": [
    "mlp = Sequential([\n",
    "    Flatten(input_shape=input_shape, name='input'),\n",
    "    Dense(1000, activation='relu', name='hidden_layer_1'),\n",
    "    Dropout(0.2, name='droput_1'),\n",
    "    Dense(512, activation='relu', name='hidden_layer_2'),\n",
    "    Dropout(0.2, name='dropout_2'),\n",
    "    Dense(num_classes, activation='softmax', name='output')\n",
    "])"
   ]
  },
  {
   "cell_type": "code",
   "execution_count": 30,
   "id": "7d6aec31",
   "metadata": {},
   "outputs": [
    {
     "name": "stdout",
     "output_type": "stream",
     "text": [
      "Model: \"sequential\"\n",
      "_________________________________________________________________\n",
      " Layer (type)                Output Shape              Param #   \n",
      "=================================================================\n",
      " input (Flatten)             (None, 110592)            0         \n",
      "                                                                 \n",
      " hidden_layer_1 (Dense)      (None, 1000)              110593000 \n",
      "                                                                 \n",
      " droput_1 (Dropout)          (None, 1000)              0         \n",
      "                                                                 \n",
      " hidden_layer_2 (Dense)      (None, 512)               512512    \n",
      "                                                                 \n",
      " dropout_2 (Dropout)         (None, 512)               0         \n",
      "                                                                 \n",
      " output (Dense)              (None, 4)                 2052      \n",
      "                                                                 \n",
      "=================================================================\n",
      "Total params: 111,107,564\n",
      "Trainable params: 111,107,564\n",
      "Non-trainable params: 0\n",
      "_________________________________________________________________\n"
     ]
    }
   ],
   "source": [
    "mlp.summary()"
   ]
  },
  {
   "cell_type": "markdown",
   "id": "4c45fddf",
   "metadata": {},
   "source": [
    "### Compile the Model "
   ]
  },
  {
   "cell_type": "code",
   "execution_count": 31,
   "id": "7961cb2b",
   "metadata": {},
   "outputs": [],
   "source": [
    "mlp.compile(loss='sparse_categorical_crossentropy',\n",
    "            optimizer='adam',\n",
    "            metrics=['accuracy'])"
   ]
  },
  {
   "cell_type": "markdown",
   "id": "daee9165",
   "metadata": {},
   "source": [
    "### Define Callbacks"
   ]
  },
  {
   "cell_type": "code",
   "execution_count": 32,
   "id": "556cf674",
   "metadata": {},
   "outputs": [
    {
     "data": {
      "text/plain": [
       "'results/1min/mlp.weights.best.hdf5'"
      ]
     },
     "execution_count": 32,
     "metadata": {},
     "output_type": "execute_result"
    }
   ],
   "source": [
    "mlp_path = (results_path / 'mlp.weights.best.hdf5').as_posix()\n",
    "mlp_path"
   ]
  },
  {
   "cell_type": "code",
   "execution_count": 33,
   "id": "752addd9",
   "metadata": {},
   "outputs": [],
   "source": [
    "checkpointer = ModelCheckpoint(filepath=mlp_path,\n",
    "                               verbose=1,\n",
    "                               monitor='val_accuracy',\n",
    "                               save_best_only=True)"
   ]
  },
  {
   "cell_type": "code",
   "execution_count": 34,
   "id": "d05ba355",
   "metadata": {},
   "outputs": [
    {
     "data": {
      "text/plain": [
       "'results/1min/logs/mlp'"
      ]
     },
     "execution_count": 34,
     "metadata": {},
     "output_type": "execute_result"
    }
   ],
   "source": [
    "log_path = (results_path / 'logs' / 'mlp').as_posix()\n",
    "log_path"
   ]
  },
  {
   "cell_type": "code",
   "execution_count": 35,
   "id": "1557f3df",
   "metadata": {},
   "outputs": [],
   "source": [
    "tensorboard = TensorBoard(log_dir=log_path,\n",
    "                          histogram_freq=1,\n",
    "                          write_graph=True,\n",
    "                          write_grads=False,\n",
    "                          update_freq='epoch')"
   ]
  },
  {
   "cell_type": "code",
   "execution_count": 36,
   "id": "45b049df",
   "metadata": {},
   "outputs": [],
   "source": [
    "early_stopping = EarlyStopping(monitor='val_accuracy', patience=10)"
   ]
  },
  {
   "cell_type": "markdown",
   "id": "852c9f59",
   "metadata": {},
   "source": [
    "### Train the Model "
   ]
  },
  {
   "cell_type": "code",
   "execution_count": 37,
   "id": "3d7bbcd4",
   "metadata": {},
   "outputs": [],
   "source": [
    "batch_size = 32\n",
    "epochs = 100"
   ]
  },
  {
   "cell_type": "code",
   "execution_count": 38,
   "id": "326d0a61",
   "metadata": {
    "scrolled": false
   },
   "outputs": [
    {
     "name": "stdout",
     "output_type": "stream",
     "text": [
      "Epoch 1/100\n"
     ]
    },
    {
     "name": "stderr",
     "output_type": "stream",
     "text": [
      "2024-03-14 03:01:07.316557: I tensorflow/compiler/xla/stream_executor/cuda/cuda_blas.cc:630] TensorFloat-32 will be used for the matrix multiplication. This will only be logged once.\n",
      "2024-03-14 03:01:07.330666: I tensorflow/compiler/xla/service/service.cc:173] XLA service 0x578e003d9bd0 initialized for platform CUDA (this does not guarantee that XLA will be used). Devices:\n",
      "2024-03-14 03:01:07.330682: I tensorflow/compiler/xla/service/service.cc:181]   StreamExecutor device (0): NVIDIA GeForce RTX 3080 Ti, Compute Capability 8.6\n",
      "2024-03-14 03:01:07.342602: I tensorflow/compiler/mlir/tensorflow/utils/dump_mlir_util.cc:268] disabling MLIR crash reproducer, set env var `MLIR_CRASH_REPRODUCER_DIRECTORY` to enable.\n",
      "2024-03-14 03:01:07.489836: I tensorflow/compiler/jit/xla_compilation_cache.cc:477] Compiled cluster using XLA!  This line is logged at most once for the lifetime of the process.\n"
     ]
    },
    {
     "name": "stdout",
     "output_type": "stream",
     "text": [
      "14/18 [======================>.......] - ETA: 0s - loss: 140.4978 - accuracy: 0.2455\n",
      "Epoch 1: val_accuracy improved from -inf to 0.20000, saving model to results/1min/mlp.weights.best.hdf5\n",
      "18/18 [==============================] - 11s 548ms/step - loss: 119.3605 - accuracy: 0.2251 - val_loss: 32.6801 - val_accuracy: 0.2000\n",
      "Epoch 2/100\n",
      "13/18 [====================>.........] - ETA: 0s - loss: 24.7067 - accuracy: 0.2452\n",
      "Epoch 2: val_accuracy improved from 0.20000 to 0.25000, saving model to results/1min/mlp.weights.best.hdf5\n",
      "18/18 [==============================] - 9s 550ms/step - loss: 20.5357 - accuracy: 0.2286 - val_loss: 2.3889 - val_accuracy: 0.2500\n",
      "Epoch 3/100\n",
      "13/18 [====================>.........] - ETA: 0s - loss: 3.2407 - accuracy: 0.2332\n",
      "Epoch 3: val_accuracy did not improve from 0.25000\n",
      "18/18 [==============================] - 0s 11ms/step - loss: 2.7326 - accuracy: 0.2286 - val_loss: 1.3867 - val_accuracy: 0.2000\n",
      "Epoch 4/100\n",
      "15/18 [========================>.....] - ETA: 0s - loss: 1.3865 - accuracy: 0.2479\n",
      "Epoch 4: val_accuracy did not improve from 0.25000\n",
      "18/18 [==============================] - 0s 10ms/step - loss: 1.3863 - accuracy: 0.2565 - val_loss: 1.3869 - val_accuracy: 0.2000\n",
      "Epoch 5/100\n",
      "14/18 [======================>.......] - ETA: 0s - loss: 1.3862 - accuracy: 0.2701\n",
      "Epoch 5: val_accuracy did not improve from 0.25000\n",
      "18/18 [==============================] - 0s 10ms/step - loss: 1.3864 - accuracy: 0.2583 - val_loss: 1.3873 - val_accuracy: 0.2000\n",
      "Epoch 6/100\n",
      "15/18 [========================>.....] - ETA: 0s - loss: 1.3862 - accuracy: 0.2667\n",
      "Epoch 6: val_accuracy did not improve from 0.25000\n",
      "18/18 [==============================] - 0s 10ms/step - loss: 1.3864 - accuracy: 0.2583 - val_loss: 1.3874 - val_accuracy: 0.2000\n",
      "Epoch 7/100\n",
      "14/18 [======================>.......] - ETA: 0s - loss: 1.3861 - accuracy: 0.2656\n",
      "Epoch 7: val_accuracy did not improve from 0.25000\n",
      "18/18 [==============================] - 0s 10ms/step - loss: 1.3863 - accuracy: 0.2583 - val_loss: 1.3873 - val_accuracy: 0.2000\n",
      "Epoch 8/100\n",
      "14/18 [======================>.......] - ETA: 0s - loss: 1.3862 - accuracy: 0.2634\n",
      "Epoch 8: val_accuracy did not improve from 0.25000\n",
      "18/18 [==============================] - 0s 10ms/step - loss: 1.3863 - accuracy: 0.2583 - val_loss: 1.3874 - val_accuracy: 0.2000\n",
      "Epoch 9/100\n",
      "15/18 [========================>.....] - ETA: 0s - loss: 1.3860 - accuracy: 0.2646\n",
      "Epoch 9: val_accuracy did not improve from 0.25000\n",
      "18/18 [==============================] - 0s 10ms/step - loss: 1.3862 - accuracy: 0.2583 - val_loss: 1.3875 - val_accuracy: 0.2000\n",
      "Epoch 10/100\n",
      "15/18 [========================>.....] - ETA: 0s - loss: 1.3863 - accuracy: 0.2583\n",
      "Epoch 10: val_accuracy did not improve from 0.25000\n",
      "18/18 [==============================] - 0s 10ms/step - loss: 1.3863 - accuracy: 0.2583 - val_loss: 1.3875 - val_accuracy: 0.2000\n",
      "Epoch 11/100\n",
      "15/18 [========================>.....] - ETA: 0s - loss: 1.3863 - accuracy: 0.2521\n",
      "Epoch 11: val_accuracy did not improve from 0.25000\n",
      "18/18 [==============================] - 0s 10ms/step - loss: 1.3862 - accuracy: 0.2583 - val_loss: 1.3874 - val_accuracy: 0.2000\n",
      "Epoch 12/100\n",
      "14/18 [======================>.......] - ETA: 0s - loss: 1.3863 - accuracy: 0.2522\n",
      "Epoch 12: val_accuracy did not improve from 0.25000\n",
      "18/18 [==============================] - 0s 10ms/step - loss: 1.3863 - accuracy: 0.2583 - val_loss: 1.3875 - val_accuracy: 0.2000\n"
     ]
    }
   ],
   "source": [
    "mlp_history = mlp.fit(X_train,\n",
    "                      y_train,\n",
    "                      batch_size=batch_size,\n",
    "                      epochs=epochs,\n",
    "                      validation_data=(X_valid, y_valid),\n",
    "#                       callbacks=[checkpointer, tensorboard, early_stopping],\n",
    "                      callbacks=[checkpointer, early_stopping],\n",
    "                      verbose=1,\n",
    "                      shuffle=True)"
   ]
  },
  {
   "cell_type": "markdown",
   "id": "61a7a010",
   "metadata": {},
   "source": [
    "### Plot CV Results"
   ]
  },
  {
   "cell_type": "code",
   "execution_count": 39,
   "id": "ca04adc5",
   "metadata": {},
   "outputs": [
    {
     "data": {
      "image/png": "[encoded data removed]",
      "text/plain": [
       "<Figure size 1400x400 with 1 Axes>"
      ]
     },
     "metadata": {},
     "output_type": "display_data"
    }
   ],
   "source": [
    "pd.DataFrame(mlp_history.history)[['accuracy', 'val_accuracy']].plot(figsize=(14, 4))\n",
    "sns.despine()"
   ]
  },
  {
   "cell_type": "markdown",
   "id": "2fda4ed5",
   "metadata": {},
   "source": [
    "### Load best model"
   ]
  },
  {
   "cell_type": "code",
   "execution_count": 40,
   "id": "8bb79abf",
   "metadata": {},
   "outputs": [],
   "source": [
    "# load the weights that yielded the best validation accuracy\n",
    "mlp.load_weights(mlp_path)"
   ]
  },
  {
   "cell_type": "markdown",
   "id": "8c43a25f",
   "metadata": {},
   "source": [
    "### Test Classification Accuracy"
   ]
  },
  {
   "cell_type": "code",
   "execution_count": 41,
   "id": "098d9d65",
   "metadata": {},
   "outputs": [
    {
     "name": "stdout",
     "output_type": "stream",
     "text": [
      "Test accuracy: 30.14%\n"
     ]
    }
   ],
   "source": [
    "# evaluate and print test accuracy\n",
    "mlp_accuracy = mlp.evaluate(X_test, y_test, verbose=0)[1]\n",
    "print('Test accuracy: {:.2%}'.format(mlp_accuracy))"
   ]
  },
  {
   "cell_type": "markdown",
   "id": "4e908329",
   "metadata": {},
   "source": [
    "## 2) Convolutional Neural Network"
   ]
  },
  {
   "cell_type": "code",
   "execution_count": 42,
   "id": "10bdbb9e",
   "metadata": {},
   "outputs": [],
   "source": [
    "# https://stackoverflow.com/questions/35114376/error-when-computing-summaries-in-tensorflow/35117760#35117760\n",
    "K.clear_session()"
   ]
  },
  {
   "cell_type": "markdown",
   "id": "661938dc",
   "metadata": {},
   "source": [
    "### Model Architecture"
   ]
  },
  {
   "cell_type": "code",
   "execution_count": 43,
   "id": "43dfdc7c",
   "metadata": {},
   "outputs": [],
   "source": [
    "cnn = Sequential([\n",
    "    Conv2D(filters=16,\n",
    "           kernel_size=2,\n",
    "           padding='same',\n",
    "           activation='relu',\n",
    "           input_shape=input_shape,\n",
    "           name='CONV1'),\n",
    "    MaxPooling2D(pool_size=2, name='POOL1'),\n",
    "    Conv2D(filters=32,\n",
    "           kernel_size=2,\n",
    "           padding='same',\n",
    "           activation='relu',\n",
    "           name='CONV2'),\n",
    "    MaxPooling2D(pool_size=2, name='POOL2'),\n",
    "    Conv2D(filters=64,\n",
    "           kernel_size=2,\n",
    "           padding='same',\n",
    "           activation='relu',\n",
    "           name='CONV3'),\n",
    "    MaxPooling2D(pool_size=2, name='POOL3'),\n",
    "    Dropout(0.3, name='DROP1'),\n",
    "    Flatten(name='FLAT1'),\n",
    "    Dense(500, activation='relu', name='FC1'),\n",
    "    Dropout(0.4, name='DROP2'),\n",
    "#     Dense(10, activation='softmax', name='FC2')\n",
    "    Dense(num_classes, activation='softmax', name='FC2')\n",
    "])"
   ]
  },
  {
   "cell_type": "code",
   "execution_count": 44,
   "id": "e0f407f3",
   "metadata": {},
   "outputs": [
    {
     "name": "stdout",
     "output_type": "stream",
     "text": [
      "Model: \"sequential\"\n",
      "_________________________________________________________________\n",
      " Layer (type)                Output Shape              Param #   \n",
      "=================================================================\n",
      " CONV1 (Conv2D)              (None, 192, 192, 16)      208       \n",
      "                                                                 \n",
      " POOL1 (MaxPooling2D)        (None, 96, 96, 16)        0         \n",
      "                                                                 \n",
      " CONV2 (Conv2D)              (None, 96, 96, 32)        2080      \n",
      "                                                                 \n",
      " POOL2 (MaxPooling2D)        (None, 48, 48, 32)        0         \n",
      "                                                                 \n",
      " CONV3 (Conv2D)              (None, 48, 48, 64)        8256      \n",
      "                                                                 \n",
      " POOL3 (MaxPooling2D)        (None, 24, 24, 64)        0         \n",
      "                                                                 \n",
      " DROP1 (Dropout)             (None, 24, 24, 64)        0         \n",
      "                                                                 \n",
      " FLAT1 (Flatten)             (None, 36864)             0         \n",
      "                                                                 \n",
      " FC1 (Dense)                 (None, 500)               18432500  \n",
      "                                                                 \n",
      " DROP2 (Dropout)             (None, 500)               0         \n",
      "                                                                 \n",
      " FC2 (Dense)                 (None, 4)                 2004      \n",
      "                                                                 \n",
      "=================================================================\n",
      "Total params: 18,445,048\n",
      "Trainable params: 18,445,048\n",
      "Non-trainable params: 0\n",
      "_________________________________________________________________\n"
     ]
    }
   ],
   "source": [
    "cnn.summary()"
   ]
  },
  {
   "cell_type": "markdown",
   "id": "6aa68967",
   "metadata": {},
   "source": [
    "### Compile the Model"
   ]
  },
  {
   "cell_type": "code",
   "execution_count": 45,
   "id": "1e21374b",
   "metadata": {},
   "outputs": [],
   "source": [
    "cnn.compile(loss='sparse_categorical_crossentropy',\n",
    "            optimizer='adam',\n",
    "            metrics=['accuracy'])"
   ]
  },
  {
   "cell_type": "markdown",
   "id": "156f4d03",
   "metadata": {},
   "source": [
    "### Define Callbacks"
   ]
  },
  {
   "cell_type": "code",
   "execution_count": 46,
   "id": "c67156bf",
   "metadata": {},
   "outputs": [],
   "source": [
    "cnn_path = (results_path / 'cnn.weights.best.hdf5').as_posix()"
   ]
  },
  {
   "cell_type": "code",
   "execution_count": 47,
   "id": "21a0263c",
   "metadata": {},
   "outputs": [],
   "source": [
    "checkpointer = ModelCheckpoint(filepath=cnn_path,\n",
    "                               verbose=1,\n",
    "                               monitor='val_accuracy',\n",
    "                               save_best_only=True)"
   ]
  },
  {
   "cell_type": "code",
   "execution_count": 48,
   "id": "efe3e42a",
   "metadata": {},
   "outputs": [],
   "source": [
    "tensorboard = TensorBoard(log_dir=results_path / 'logs' / 'cnn',\n",
    "                          histogram_freq=1,\n",
    "                          write_graph=True,\n",
    "                          write_grads=False,\n",
    "                          update_freq='epoch')"
   ]
  },
  {
   "cell_type": "code",
   "execution_count": 49,
   "id": "a157ed12",
   "metadata": {},
   "outputs": [],
   "source": [
    "early_stopping = EarlyStopping(monitor='val_accuracy', patience=10)"
   ]
  },
  {
   "cell_type": "markdown",
   "id": "02c2c057",
   "metadata": {},
   "source": [
    "### Train the Model"
   ]
  },
  {
   "cell_type": "code",
   "execution_count": 50,
   "id": "24518ab7",
   "metadata": {},
   "outputs": [],
   "source": [
    "batch_size = 32\n",
    "epochs = 100"
   ]
  },
  {
   "cell_type": "code",
   "execution_count": 51,
   "id": "773d9aed",
   "metadata": {
    "scrolled": false
   },
   "outputs": [
    {
     "name": "stdout",
     "output_type": "stream",
     "text": [
      "Epoch 1/100\n"
     ]
    },
    {
     "name": "stderr",
     "output_type": "stream",
     "text": [
      "2024-03-14 03:01:29.478805: E tensorflow/core/grappler/optimizers/meta_optimizer.cc:954] layout failed: INVALID_ARGUMENT: Size of values 0 does not match size of permutation 4 @ fanin shape insequential/DROP1/dropout/SelectV2-2-TransposeNHWCToNCHW-LayoutOptimizer\n",
      "2024-03-14 03:01:29.981568: I tensorflow/compiler/xla/stream_executor/cuda/cuda_dnn.cc:428] Loaded cuDNN version 8101\n"
     ]
    },
    {
     "name": "stdout",
     "output_type": "stream",
     "text": [
      "\n",
      "Epoch 1: val_accuracy improved from -inf to 0.30000, saving model to results/1min/cnn.weights.best.hdf5\n",
      "18/18 - 4s - loss: 2.9012 - accuracy: 0.2740 - val_loss: 1.3374 - val_accuracy: 0.3000 - 4s/epoch - 239ms/step\n",
      "Epoch 2/100\n",
      "\n",
      "Epoch 2: val_accuracy improved from 0.30000 to 0.63750, saving model to results/1min/cnn.weights.best.hdf5\n",
      "18/18 - 2s - loss: 1.2139 - accuracy: 0.4642 - val_loss: 0.9562 - val_accuracy: 0.6375 - 2s/epoch - 95ms/step\n",
      "Epoch 3/100\n",
      "\n",
      "Epoch 3: val_accuracy did not improve from 0.63750\n",
      "18/18 - 0s - loss: 0.7920 - accuracy: 0.6056 - val_loss: 0.7562 - val_accuracy: 0.5750 - 192ms/epoch - 11ms/step\n",
      "Epoch 4/100\n",
      "\n",
      "Epoch 4: val_accuracy improved from 0.63750 to 0.93750, saving model to results/1min/cnn.weights.best.hdf5\n",
      "18/18 - 2s - loss: 0.5396 - accuracy: 0.7818 - val_loss: 0.4085 - val_accuracy: 0.9375 - 2s/epoch - 92ms/step\n",
      "Epoch 5/100\n",
      "\n",
      "Epoch 5: val_accuracy did not improve from 0.93750\n",
      "18/18 - 0s - loss: 0.3049 - accuracy: 0.9040 - val_loss: 0.3071 - val_accuracy: 0.9375 - 184ms/epoch - 10ms/step\n",
      "Epoch 6/100\n",
      "\n",
      "Epoch 6: val_accuracy did not improve from 0.93750\n",
      "18/18 - 0s - loss: 0.2189 - accuracy: 0.9407 - val_loss: 0.2274 - val_accuracy: 0.9375 - 186ms/epoch - 10ms/step\n",
      "Epoch 7/100\n",
      "\n",
      "Epoch 7: val_accuracy did not improve from 0.93750\n",
      "18/18 - 0s - loss: 0.1522 - accuracy: 0.9616 - val_loss: 0.1965 - val_accuracy: 0.9375 - 192ms/epoch - 11ms/step\n",
      "Epoch 8/100\n",
      "\n",
      "Epoch 8: val_accuracy did not improve from 0.93750\n",
      "18/18 - 0s - loss: 0.1306 - accuracy: 0.9651 - val_loss: 0.1450 - val_accuracy: 0.9375 - 196ms/epoch - 11ms/step\n",
      "Epoch 9/100\n",
      "\n",
      "Epoch 9: val_accuracy improved from 0.93750 to 0.96250, saving model to results/1min/cnn.weights.best.hdf5\n",
      "18/18 - 2s - loss: 0.1097 - accuracy: 0.9686 - val_loss: 0.1301 - val_accuracy: 0.9625 - 2s/epoch - 91ms/step\n",
      "Epoch 10/100\n",
      "\n",
      "Epoch 10: val_accuracy did not improve from 0.96250\n",
      "18/18 - 0s - loss: 0.0856 - accuracy: 0.9756 - val_loss: 0.1236 - val_accuracy: 0.9625 - 201ms/epoch - 11ms/step\n",
      "Epoch 11/100\n",
      "\n",
      "Epoch 11: val_accuracy did not improve from 0.96250\n",
      "18/18 - 0s - loss: 0.0779 - accuracy: 0.9773 - val_loss: 0.1633 - val_accuracy: 0.9625 - 191ms/epoch - 11ms/step\n",
      "Epoch 12/100\n",
      "\n",
      "Epoch 12: val_accuracy did not improve from 0.96250\n",
      "18/18 - 0s - loss: 0.0678 - accuracy: 0.9773 - val_loss: 0.0816 - val_accuracy: 0.9625 - 188ms/epoch - 10ms/step\n",
      "Epoch 13/100\n",
      "\n",
      "Epoch 13: val_accuracy did not improve from 0.96250\n",
      "18/18 - 0s - loss: 0.0670 - accuracy: 0.9756 - val_loss: 0.0784 - val_accuracy: 0.9625 - 186ms/epoch - 10ms/step\n",
      "Epoch 14/100\n",
      "\n",
      "Epoch 14: val_accuracy did not improve from 0.96250\n",
      "18/18 - 0s - loss: 0.0596 - accuracy: 0.9825 - val_loss: 0.0851 - val_accuracy: 0.9625 - 187ms/epoch - 10ms/step\n",
      "Epoch 15/100\n",
      "\n",
      "Epoch 15: val_accuracy did not improve from 0.96250\n",
      "18/18 - 0s - loss: 0.0359 - accuracy: 0.9843 - val_loss: 0.0660 - val_accuracy: 0.9625 - 185ms/epoch - 10ms/step\n",
      "Epoch 16/100\n",
      "\n",
      "Epoch 16: val_accuracy did not improve from 0.96250\n",
      "18/18 - 0s - loss: 0.0342 - accuracy: 0.9878 - val_loss: 0.0570 - val_accuracy: 0.9625 - 191ms/epoch - 11ms/step\n",
      "Epoch 17/100\n",
      "\n",
      "Epoch 17: val_accuracy improved from 0.96250 to 0.97500, saving model to results/1min/cnn.weights.best.hdf5\n",
      "18/18 - 2s - loss: 0.0314 - accuracy: 0.9913 - val_loss: 0.0771 - val_accuracy: 0.9750 - 2s/epoch - 96ms/step\n",
      "Epoch 18/100\n",
      "\n",
      "Epoch 18: val_accuracy did not improve from 0.97500\n",
      "18/18 - 0s - loss: 0.0398 - accuracy: 0.9895 - val_loss: 0.0513 - val_accuracy: 0.9750 - 204ms/epoch - 11ms/step\n",
      "Epoch 19/100\n",
      "\n",
      "Epoch 19: val_accuracy did not improve from 0.97500\n",
      "18/18 - 0s - loss: 0.0223 - accuracy: 0.9948 - val_loss: 0.0536 - val_accuracy: 0.9625 - 194ms/epoch - 11ms/step\n",
      "Epoch 20/100\n",
      "\n",
      "Epoch 20: val_accuracy did not improve from 0.97500\n",
      "18/18 - 0s - loss: 0.0264 - accuracy: 0.9878 - val_loss: 0.0816 - val_accuracy: 0.9625 - 191ms/epoch - 11ms/step\n",
      "Epoch 21/100\n",
      "\n",
      "Epoch 21: val_accuracy did not improve from 0.97500\n",
      "18/18 - 0s - loss: 0.0291 - accuracy: 0.9895 - val_loss: 0.0632 - val_accuracy: 0.9750 - 206ms/epoch - 11ms/step\n",
      "Epoch 22/100\n",
      "\n",
      "Epoch 22: val_accuracy improved from 0.97500 to 0.98750, saving model to results/1min/cnn.weights.best.hdf5\n",
      "18/18 - 2s - loss: 0.0249 - accuracy: 0.9913 - val_loss: 0.0464 - val_accuracy: 0.9875 - 2s/epoch - 93ms/step\n",
      "Epoch 23/100\n",
      "\n",
      "Epoch 23: val_accuracy did not improve from 0.98750\n",
      "18/18 - 0s - loss: 0.0126 - accuracy: 0.9983 - val_loss: 0.0518 - val_accuracy: 0.9625 - 205ms/epoch - 11ms/step\n",
      "Epoch 24/100\n",
      "\n",
      "Epoch 24: val_accuracy did not improve from 0.98750\n",
      "18/18 - 0s - loss: 0.0082 - accuracy: 0.9983 - val_loss: 0.0517 - val_accuracy: 0.9750 - 195ms/epoch - 11ms/step\n",
      "Epoch 25/100\n",
      "\n",
      "Epoch 25: val_accuracy did not improve from 0.98750\n",
      "18/18 - 0s - loss: 0.0172 - accuracy: 0.9913 - val_loss: 0.0488 - val_accuracy: 0.9625 - 188ms/epoch - 10ms/step\n",
      "Epoch 26/100\n",
      "\n",
      "Epoch 26: val_accuracy did not improve from 0.98750\n",
      "18/18 - 0s - loss: 0.0084 - accuracy: 0.9983 - val_loss: 0.0467 - val_accuracy: 0.9750 - 199ms/epoch - 11ms/step\n",
      "Epoch 27/100\n",
      "\n",
      "Epoch 27: val_accuracy did not improve from 0.98750\n",
      "18/18 - 0s - loss: 0.0063 - accuracy: 1.0000 - val_loss: 0.0443 - val_accuracy: 0.9750 - 199ms/epoch - 11ms/step\n",
      "Epoch 28/100\n",
      "\n",
      "Epoch 28: val_accuracy did not improve from 0.98750\n",
      "18/18 - 0s - loss: 0.0087 - accuracy: 0.9983 - val_loss: 0.0495 - val_accuracy: 0.9750 - 177ms/epoch - 10ms/step\n",
      "Epoch 29/100\n",
      "\n",
      "Epoch 29: val_accuracy did not improve from 0.98750\n",
      "18/18 - 0s - loss: 0.0055 - accuracy: 1.0000 - val_loss: 0.0555 - val_accuracy: 0.9625 - 184ms/epoch - 10ms/step\n",
      "Epoch 30/100\n",
      "\n",
      "Epoch 30: val_accuracy did not improve from 0.98750\n",
      "18/18 - 0s - loss: 0.0033 - accuracy: 1.0000 - val_loss: 0.0445 - val_accuracy: 0.9750 - 181ms/epoch - 10ms/step\n",
      "Epoch 31/100\n",
      "\n",
      "Epoch 31: val_accuracy did not improve from 0.98750\n",
      "18/18 - 0s - loss: 0.0055 - accuracy: 0.9983 - val_loss: 0.0436 - val_accuracy: 0.9750 - 191ms/epoch - 11ms/step\n",
      "Epoch 32/100\n",
      "\n",
      "Epoch 32: val_accuracy did not improve from 0.98750\n",
      "18/18 - 0s - loss: 0.0036 - accuracy: 1.0000 - val_loss: 0.0454 - val_accuracy: 0.9750 - 189ms/epoch - 10ms/step\n"
     ]
    }
   ],
   "source": [
    "cnn_history = cnn.fit(X_train,\n",
    "                      y_train,\n",
    "                      batch_size=batch_size,\n",
    "                      epochs=epochs,\n",
    "                      validation_data=(X_valid, y_valid),\n",
    "#                       callbacks=[checkpointer, tensorboard, early_stopping],\n",
    "                      callbacks=[checkpointer, early_stopping],\n",
    "                      verbose=2,\n",
    "                      shuffle=True)"
   ]
  },
  {
   "cell_type": "markdown",
   "id": "a0a5e7de",
   "metadata": {},
   "source": [
    "### Plot CV Results"
   ]
  },
  {
   "cell_type": "code",
   "execution_count": 52,
   "id": "57040ff1",
   "metadata": {},
   "outputs": [
    {
     "data": {
      "image/png": "[encoded data removed]",
      "text/plain": [
       "<Figure size 1400x400 with 1 Axes>"
      ]
     },
     "metadata": {},
     "output_type": "display_data"
    }
   ],
   "source": [
    "pd.DataFrame(cnn_history.history)[['accuracy',\n",
    "                                   'val_accuracy']].plot(figsize=(14, 4))\n",
    "sns.despine();"
   ]
  },
  {
   "cell_type": "markdown",
   "id": "242d238e",
   "metadata": {},
   "source": [
    "### Load best model"
   ]
  },
  {
   "cell_type": "code",
   "execution_count": 53,
   "id": "2aa07afa",
   "metadata": {},
   "outputs": [],
   "source": [
    "cnn.load_weights(cnn_path)"
   ]
  },
  {
   "cell_type": "markdown",
   "id": "1819cddd",
   "metadata": {},
   "source": [
    "### Test set accuracy"
   ]
  },
  {
   "cell_type": "code",
   "execution_count": 54,
   "id": "bf04024c",
   "metadata": {},
   "outputs": [
    {
     "name": "stdout",
     "output_type": "stream",
     "text": [
      "Accuracy: 97.26%\n"
     ]
    }
   ],
   "source": [
    "cnn_accuracy = cnn.evaluate(X_test, y_test, verbose=0)[1]\n",
    "print('Accuracy: {:.2%}'.format(cnn_accuracy))"
   ]
  },
  {
   "cell_type": "markdown",
   "id": "f5e3f74e",
   "metadata": {},
   "source": [
    "### Evaluate Predictions"
   ]
  },
  {
   "cell_type": "code",
   "execution_count": 55,
   "id": "7444e598",
   "metadata": {},
   "outputs": [
    {
     "name": "stdout",
     "output_type": "stream",
     "text": [
      "3/3 [==============================] - 0s 4ms/step\n"
     ]
    }
   ],
   "source": [
    "y_hat = cnn.predict(X_test)"
   ]
  },
  {
   "cell_type": "code",
   "execution_count": 56,
   "id": "927681eb",
   "metadata": {},
   "outputs": [
    {
     "name": "stdout",
     "output_type": "stream",
     "text": [
      "0 3\n"
     ]
    }
   ],
   "source": [
    "# y_hat\n",
    "print(np.argmax(y_test[0]), np.argmax(y_hat[0]))\n"
   ]
  },
  {
   "cell_type": "code",
   "execution_count": 57,
   "id": "ba0e0a9a",
   "metadata": {
    "scrolled": false
   },
   "outputs": [
    {
     "data": {
      "image/png": "[encoded data removed]",
      "text/plain": [
       "<Figure size 2000x3000 with 30 Axes>"
      ]
     },
     "metadata": {},
     "output_type": "display_data"
    }
   ],
   "source": [
    "fig, axes = plt.subplots(nrows=6, ncols=5, figsize=(20, 30))\n",
    "axes = axes.flatten()\n",
    "images = np.random.choice(X_test.shape[0], size=30, replace=False)\n",
    "for i, (ax, idx) in enumerate(zip(axes, images)):\n",
    "    ax.imshow(np.squeeze(X_test[idx]))\n",
    "    ax.axis('off')\n",
    "#     pred_idx, true_idx = np.argmax(y_hat[idx]), np.argmax(y_test[idx])\n",
    "#     pred_idx, true_idx = np.argmax(y_hat[idx]), np.argmax(y_test[idx, 0])\n",
    "    pred_idx, true_idx = np.argmax(y_hat[idx]), y_test[idx, 0]\n",
    "#     print(pred_idx, true_idx)\n",
    "    if pred_idx == true_idx:\n",
    "        ax.set_title('{} (✓)'.format(labels[pred_idx]), color=\"green\")\n",
    "    else:\n",
    "        ax.set_title(\"{} ({})\".format(labels[pred_idx], labels[true_idx]), color='red')"
   ]
  },
  {
   "cell_type": "markdown",
   "id": "770675e3",
   "metadata": {},
   "source": [
    "## AlexNet"
   ]
  },
  {
   "cell_type": "markdown",
   "id": "8c593244",
   "metadata": {},
   "source": [
    "We also need to simplify the AlexNet architecture in response to the lower dimensionality of CIFAR10 images relative to the ImageNet samples used in the competition. We use the original number of filters but make them smaller (see notebook for implementation). The summary shows the five convolutional layers followed by two fully-connected layers with frequent use of batch normalization, for a total of 21.5 million parameters:"
   ]
  },
  {
   "cell_type": "markdown",
   "id": "72397360",
   "metadata": {},
   "source": [
    "### Define Architecture"
   ]
  },
  {
   "cell_type": "code",
   "execution_count": 58,
   "id": "e9b0b0d4",
   "metadata": {},
   "outputs": [],
   "source": [
    "K.clear_session()"
   ]
  },
  {
   "cell_type": "code",
   "execution_count": 59,
   "id": "b3afb267",
   "metadata": {},
   "outputs": [],
   "source": [
    "alexnet = Sequential([\n",
    "\n",
    "    # 1st Convolutional Layer\n",
    "    Conv2D(96, (3, 3),\n",
    "           strides=(2, 2),\n",
    "           activation='relu',\n",
    "           padding='same',\n",
    "           input_shape=input_shape,\n",
    "           name='CONV_1'),\n",
    "    MaxPooling2D(pool_size=(2, 2), strides=(2, 2), name='POOL_1'),\n",
    "    BatchNormalization(name='NORM_1'),\n",
    "\n",
    "    # 2nd Convolutional Layer\n",
    "    Conv2D(filters=256,\n",
    "           kernel_size=(5, 5),\n",
    "           padding='same',\n",
    "           activation='relu',\n",
    "           name='CONV2'),\n",
    "    MaxPooling2D(pool_size=(3, 3), strides=(2, 2), name='POOL2'),\n",
    "    BatchNormalization(name='NORM_2'),\n",
    "\n",
    "    # 3rd Convolutional Layer\n",
    "    Conv2D(filters=384,\n",
    "           kernel_size=(3, 3),\n",
    "           padding='same',\n",
    "           activation='relu',\n",
    "           name='CONV3'),\n",
    "    # 4th Convolutional Layer\n",
    "    Conv2D(filters=384,\n",
    "           kernel_size=(3, 3),\n",
    "           padding='same',\n",
    "           activation='relu',\n",
    "           name='CONV4'),\n",
    "    # 5th Convolutional Layer\n",
    "    Conv2D(filters=256,\n",
    "           kernel_size=(3, 3),\n",
    "           padding='same',\n",
    "           activation='relu',\n",
    "           name='CONV5'),\n",
    "    MaxPooling2D(pool_size=(3, 3), strides=(2, 2), name='POOL5'),\n",
    "    BatchNormalization(name='NORM_5'),\n",
    "\n",
    "    # Fully Connected Layers\n",
    "    Flatten(name='FLAT'),\n",
    "    Dense(4096, input_shape=(32 * 32 * 3, ), activation='relu', name='FC1'),\n",
    "    Dropout(0.4, name='DROP1'),\n",
    "    Dense(4096, activation='relu', name='FC2'),\n",
    "    Dropout(0.4, name='DROP2'),\n",
    "    Dense(num_classes, activation='softmax')\n",
    "])"
   ]
  },
  {
   "cell_type": "code",
   "execution_count": 60,
   "id": "e7e82d94",
   "metadata": {},
   "outputs": [
    {
     "name": "stdout",
     "output_type": "stream",
     "text": [
      "Model: \"sequential\"\n",
      "_________________________________________________________________\n",
      " Layer (type)                Output Shape              Param #   \n",
      "=================================================================\n",
      " CONV_1 (Conv2D)             (None, 96, 96, 96)        2688      \n",
      "                                                                 \n",
      " POOL_1 (MaxPooling2D)       (None, 48, 48, 96)        0         \n",
      "                                                                 \n",
      " NORM_1 (BatchNormalization)  (None, 48, 48, 96)       384       \n",
      "                                                                 \n",
      " CONV2 (Conv2D)              (None, 48, 48, 256)       614656    \n",
      "                                                                 \n",
      " POOL2 (MaxPooling2D)        (None, 23, 23, 256)       0         \n",
      "                                                                 \n",
      " NORM_2 (BatchNormalization)  (None, 23, 23, 256)      1024      \n",
      "                                                                 \n",
      " CONV3 (Conv2D)              (None, 23, 23, 384)       885120    \n",
      "                                                                 \n",
      " CONV4 (Conv2D)              (None, 23, 23, 384)       1327488   \n",
      "                                                                 \n",
      " CONV5 (Conv2D)              (None, 23, 23, 256)       884992    \n",
      "                                                                 \n",
      " POOL5 (MaxPooling2D)        (None, 11, 11, 256)       0         \n",
      "                                                                 \n",
      " NORM_5 (BatchNormalization)  (None, 11, 11, 256)      1024      \n",
      "                                                                 \n",
      " FLAT (Flatten)              (None, 30976)             0         \n",
      "                                                                 \n",
      " FC1 (Dense)                 (None, 4096)              126881792 \n",
      "                                                                 \n",
      " DROP1 (Dropout)             (None, 4096)              0         \n",
      "                                                                 \n",
      " FC2 (Dense)                 (None, 4096)              16781312  \n",
      "                                                                 \n",
      " DROP2 (Dropout)             (None, 4096)              0         \n",
      "                                                                 \n",
      " dense (Dense)               (None, 4)                 16388     \n",
      "                                                                 \n",
      "=================================================================\n",
      "Total params: 147,396,868\n",
      "Trainable params: 147,395,652\n",
      "Non-trainable params: 1,216\n",
      "_________________________________________________________________\n"
     ]
    }
   ],
   "source": [
    "alexnet.summary()"
   ]
  },
  {
   "cell_type": "markdown",
   "id": "d33d90f2",
   "metadata": {},
   "source": [
    "### Compile Model"
   ]
  },
  {
   "cell_type": "code",
   "execution_count": 61,
   "id": "3a8c8546",
   "metadata": {},
   "outputs": [],
   "source": [
    "alexnet.compile(loss='sparse_categorical_crossentropy',\n",
    "                optimizer='adam',\n",
    "                metrics=['accuracy'])"
   ]
  },
  {
   "cell_type": "markdown",
   "id": "b0c7babd",
   "metadata": {},
   "source": [
    "### Define Callbacks"
   ]
  },
  {
   "cell_type": "code",
   "execution_count": 62,
   "id": "b579f83c",
   "metadata": {},
   "outputs": [],
   "source": [
    "alexnet_path = (results_path / 'alexnet.weights.best.hdf5').as_posix()"
   ]
  },
  {
   "cell_type": "code",
   "execution_count": 63,
   "id": "3bcc19de",
   "metadata": {},
   "outputs": [],
   "source": [
    "checkpointer = ModelCheckpoint(filepath=alexnet_path,\n",
    "                               verbose=1,\n",
    "                               monitor='val_accuracy',\n",
    "                               save_best_only=True)"
   ]
  },
  {
   "cell_type": "code",
   "execution_count": 64,
   "id": "592d8090",
   "metadata": {},
   "outputs": [],
   "source": [
    "tensorboard = TensorBoard(log_dir=results_path / 'logs' / 'alexnet',\n",
    "                          histogram_freq=1,\n",
    "                          write_graph=True,\n",
    "                          write_grads=False,\n",
    "                          update_freq='epoch')"
   ]
  },
  {
   "cell_type": "code",
   "execution_count": 65,
   "id": "fe6b5332",
   "metadata": {},
   "outputs": [],
   "source": [
    "early_stopping = EarlyStopping(monitor='val_accuracy', \n",
    "                               mode='max',\n",
    "                               patience=10)"
   ]
  },
  {
   "cell_type": "markdown",
   "id": "fbeba5cb",
   "metadata": {},
   "source": [
    "### Train Model"
   ]
  },
  {
   "cell_type": "code",
   "execution_count": 66,
   "id": "7b6276d0",
   "metadata": {},
   "outputs": [],
   "source": [
    "batch_size = 32\n",
    "epochs = 100"
   ]
  },
  {
   "cell_type": "code",
   "execution_count": 67,
   "id": "7d1448c8",
   "metadata": {},
   "outputs": [
    {
     "name": "stdout",
     "output_type": "stream",
     "text": [
      "Epoch 1/100\n",
      "18/18 [==============================] - ETA: 0s - loss: 31.5708 - accuracy: 0.4956\n",
      "Epoch 1: val_accuracy improved from -inf to 0.20000, saving model to results/1min/alexnet.weights.best.hdf5\n",
      "18/18 [==============================] - 16s 786ms/step - loss: 31.5708 - accuracy: 0.4956 - val_loss: 6833.9678 - val_accuracy: 0.2000\n",
      "Epoch 2/100\n",
      "17/18 [===========================>..] - ETA: 0s - loss: 0.5365 - accuracy: 0.8070\n",
      "Epoch 2: val_accuracy did not improve from 0.20000\n",
      "18/18 [==============================] - 0s 28ms/step - loss: 0.5437 - accuracy: 0.8080 - val_loss: 5231.1729 - val_accuracy: 0.2000\n",
      "Epoch 3/100\n",
      "18/18 [==============================] - ETA: 0s - loss: 0.3735 - accuracy: 0.8604\n",
      "Epoch 3: val_accuracy did not improve from 0.20000\n",
      "18/18 [==============================] - 0s 27ms/step - loss: 0.3735 - accuracy: 0.8604 - val_loss: 2855.0996 - val_accuracy: 0.2000\n",
      "Epoch 4/100\n",
      "16/18 [=========================>....] - ETA: 0s - loss: 0.3753 - accuracy: 0.8789\n",
      "Epoch 4: val_accuracy did not improve from 0.20000\n",
      "18/18 [==============================] - 0s 27ms/step - loss: 0.3509 - accuracy: 0.8883 - val_loss: 1378.2957 - val_accuracy: 0.2000\n",
      "Epoch 5/100\n",
      "17/18 [===========================>..] - ETA: 0s - loss: 0.2698 - accuracy: 0.9062\n",
      "Epoch 5: val_accuracy did not improve from 0.20000\n",
      "18/18 [==============================] - 0s 27ms/step - loss: 0.2624 - accuracy: 0.9110 - val_loss: 545.4420 - val_accuracy: 0.2000\n",
      "Epoch 6/100\n",
      "17/18 [===========================>..] - ETA: 0s - loss: 0.3144 - accuracy: 0.8971\n",
      "Epoch 6: val_accuracy did not improve from 0.20000\n",
      "18/18 [==============================] - 0s 27ms/step - loss: 0.3050 - accuracy: 0.9005 - val_loss: 101.6318 - val_accuracy: 0.2000\n",
      "Epoch 7/100\n",
      "18/18 [==============================] - ETA: 0s - loss: 0.2188 - accuracy: 0.9267\n",
      "Epoch 7: val_accuracy improved from 0.20000 to 0.50000, saving model to results/1min/alexnet.weights.best.hdf5\n",
      "18/18 [==============================] - 13s 737ms/step - loss: 0.2188 - accuracy: 0.9267 - val_loss: 33.2688 - val_accuracy: 0.5000\n",
      "Epoch 8/100\n",
      "17/18 [===========================>..] - ETA: 0s - loss: 0.1442 - accuracy: 0.9614\n",
      "Epoch 8: val_accuracy improved from 0.50000 to 0.71250, saving model to results/1min/alexnet.weights.best.hdf5\n",
      "18/18 [==============================] - 15s 890ms/step - loss: 0.1565 - accuracy: 0.9581 - val_loss: 26.3029 - val_accuracy: 0.7125\n",
      "Epoch 9/100\n",
      "17/18 [===========================>..] - ETA: 0s - loss: 0.1306 - accuracy: 0.9614\n",
      "Epoch 9: val_accuracy did not improve from 0.71250\n",
      "18/18 [==============================] - 1s 29ms/step - loss: 0.1386 - accuracy: 0.9581 - val_loss: 13.1716 - val_accuracy: 0.4875\n",
      "Epoch 10/100\n",
      "16/18 [=========================>....] - ETA: 0s - loss: 0.1423 - accuracy: 0.9609\n",
      "Epoch 10: val_accuracy did not improve from 0.71250\n",
      "18/18 [==============================] - 0s 27ms/step - loss: 0.1354 - accuracy: 0.9634 - val_loss: 9.9433 - val_accuracy: 0.4500\n",
      "Epoch 11/100\n",
      "17/18 [===========================>..] - ETA: 0s - loss: 0.0967 - accuracy: 0.9669\n",
      "Epoch 11: val_accuracy did not improve from 0.71250\n",
      "18/18 [==============================] - 0s 27ms/step - loss: 0.0922 - accuracy: 0.9686 - val_loss: 5.9639 - val_accuracy: 0.4125\n",
      "Epoch 12/100\n",
      "16/18 [=========================>....] - ETA: 0s - loss: 0.1111 - accuracy: 0.9688\n",
      "Epoch 12: val_accuracy did not improve from 0.71250\n",
      "18/18 [==============================] - 0s 27ms/step - loss: 0.1105 - accuracy: 0.9668 - val_loss: 5.2630 - val_accuracy: 0.4875\n",
      "Epoch 13/100\n",
      "18/18 [==============================] - ETA: 0s - loss: 0.0748 - accuracy: 0.9843\n",
      "Epoch 13: val_accuracy did not improve from 0.71250\n",
      "18/18 [==============================] - 0s 27ms/step - loss: 0.0748 - accuracy: 0.9843 - val_loss: 4.2824 - val_accuracy: 0.5625\n",
      "Epoch 14/100\n",
      "18/18 [==============================] - ETA: 0s - loss: 0.0515 - accuracy: 0.9860\n",
      "Epoch 14: val_accuracy did not improve from 0.71250\n",
      "18/18 [==============================] - 0s 28ms/step - loss: 0.0515 - accuracy: 0.9860 - val_loss: 3.2290 - val_accuracy: 0.4750\n",
      "Epoch 15/100\n",
      "17/18 [===========================>..] - ETA: 0s - loss: 0.0239 - accuracy: 0.9890\n",
      "Epoch 15: val_accuracy did not improve from 0.71250\n",
      "18/18 [==============================] - 0s 28ms/step - loss: 0.0258 - accuracy: 0.9878 - val_loss: 5.4300 - val_accuracy: 0.5125\n",
      "Epoch 16/100\n",
      "17/18 [===========================>..] - ETA: 0s - loss: 0.0484 - accuracy: 0.9779\n",
      "Epoch 16: val_accuracy did not improve from 0.71250\n",
      "18/18 [==============================] - 0s 28ms/step - loss: 0.0487 - accuracy: 0.9791 - val_loss: 4.8927 - val_accuracy: 0.5000\n",
      "Epoch 17/100\n",
      "18/18 [==============================] - ETA: 0s - loss: 0.0343 - accuracy: 0.9930\n",
      "Epoch 17: val_accuracy did not improve from 0.71250\n",
      "18/18 [==============================] - 0s 28ms/step - loss: 0.0343 - accuracy: 0.9930 - val_loss: 1.8395 - val_accuracy: 0.5625\n",
      "Epoch 18/100\n",
      "17/18 [===========================>..] - ETA: 0s - loss: 0.0429 - accuracy: 0.9890\n",
      "Epoch 18: val_accuracy did not improve from 0.71250\n",
      "18/18 [==============================] - 0s 27ms/step - loss: 0.0423 - accuracy: 0.9895 - val_loss: 2.7951 - val_accuracy: 0.3000\n"
     ]
    }
   ],
   "source": [
    "alex_history = alexnet.fit(X_train, \n",
    "                           y_train,\n",
    "                           batch_size=batch_size,\n",
    "                           epochs=epochs,\n",
    "                           validation_data=(X_valid, \n",
    "                                            y_valid),\n",
    "                           callbacks=[checkpointer, \n",
    "#                                       tensorboard, \n",
    "                                      early_stopping],\n",
    "                           verbose=1)"
   ]
  },
  {
   "cell_type": "code",
   "execution_count": 68,
   "id": "d9083280",
   "metadata": {},
   "outputs": [
    {
     "data": {
      "image/png": "[encoded data removed]",
      "text/plain": [
       "<Figure size 1400x500 with 1 Axes>"
      ]
     },
     "metadata": {},
     "output_type": "display_data"
    }
   ],
   "source": [
    "pd.DataFrame(alex_history.history)[['accuracy', 'val_accuracy']].plot(figsize=(14, 5))\n",
    "sns.despine();"
   ]
  },
  {
   "cell_type": "code",
   "execution_count": 69,
   "id": "a69a5a54",
   "metadata": {},
   "outputs": [],
   "source": [
    "alexnet.load_weights(alexnet_path)"
   ]
  },
  {
   "cell_type": "code",
   "execution_count": 70,
   "id": "8e806f93",
   "metadata": {},
   "outputs": [
    {
     "name": "stdout",
     "output_type": "stream",
     "text": [
      "Test Accuracy: 65.75%\n"
     ]
    }
   ],
   "source": [
    "alex_accuracy = alexnet.evaluate(X_test, y_test, verbose=0)[1]\n",
    "print('Test Accuracy: {:.2%}'.format(alex_accuracy))"
   ]
  },
  {
   "cell_type": "markdown",
   "id": "91b9f883",
   "metadata": {},
   "source": [
    "## Compare Results"
   ]
  },
  {
   "cell_type": "code",
   "execution_count": 71,
   "id": "ef64cc13",
   "metadata": {},
   "outputs": [],
   "source": [
    "cv_results = pd.DataFrame(\n",
    "    {'Feed-Forward NN': pd.Series(mlp_history.history['val_accuracy']),\n",
    "        'CNN': pd.Series(cnn_history.history['val_accuracy']),\n",
    "        'Alex Net': pd.Series(alex_history.history['val_accuracy'])\n",
    "    })"
   ]
  },
  {
   "cell_type": "code",
   "execution_count": 72,
   "id": "80a2d1b2",
   "metadata": {},
   "outputs": [],
   "source": [
    "test_accuracy = pd.Series({\n",
    "    'Feed-Forward NN': mlp_accuracy,\n",
    "    'CNN': cnn_accuracy,\n",
    "    'Alex Net': alex_accuracy\n",
    "})"
   ]
  },
  {
   "cell_type": "code",
   "execution_count": null,
   "id": "2761d7e4",
   "metadata": {},
   "outputs": [],
   "source": [
    "fig, axes = plt.subplots(ncols=2, figsize=(14, 4))\n",
    "cv_results.plot(ax=axes[0], title='CV Validation Performance')\n",
    "test_accuracy.plot.barh(ax=axes[1], xlim=(.3, .8), title='Test Accuracy')\n",
    "fig.tight_layout()\n",
    "sns.despine()\n",
    "fig.savefig(results_path / 'comparison', dpi=300);"
   ]
  },
  {
   "cell_type": "code",
   "execution_count": null,
   "id": "02769482",
   "metadata": {},
   "outputs": [],
   "source": []
  },
  {
   "cell_type": "code",
   "execution_count": null,
   "id": "4515fcdd",
   "metadata": {},
   "outputs": [],
   "source": []
  }
 ],
 "metadata": {
  "kernelspec": {
   "display_name": "Python 3 (ipykernel)",
   "language": "python",
   "name": "python3"
  },
  "language_info": {
   "codemirror_mode": {
    "name": "ipython",
    "version": 3
   },
   "file_extension": ".py",
   "mimetype": "text/x-python",
   "name": "python",
   "nbconvert_exporter": "python",
   "pygments_lexer": "ipython3",
   "version": "3.8.16"
  }
 },
 "nbformat": 4,
 "nbformat_minor": 5
}
