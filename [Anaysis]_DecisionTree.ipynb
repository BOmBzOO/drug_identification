{
 "cells": [
  {
   "cell_type": "markdown",
   "id": "a71fcdef",
   "metadata": {},
   "source": [
    "# Microbe VOC Identification with Decision Trees"
   ]
  },
  {
   "cell_type": "markdown",
   "id": "db67e785",
   "metadata": {},
   "source": [
    "### Processor\n",
    "* VOC_duration : 3sec\n",
    "* Wash_Out : 8min\n",
    "\n",
    "### Sensors\n",
    "+ TGS : TGS2600, TGS2602, TGS2603, TGS2610, TGS2620\n",
    "+ MQ : MQ2, MQ3, MQ4, MQ5, MQ6, MQ7, MQ8, MQ9, MQ135\n",
    "\n",
    "### VOC\n",
    "1. C.albicans\n",
    "2. C.glabrata\n",
    "3. E.coli\n",
    "4. K.pneumoniae\n",
    "5. S.aureus\n",
    "6. S.epidermidis"
   ]
  },
  {
   "cell_type": "code",
   "execution_count": 34,
   "id": "257f9c2f",
   "metadata": {},
   "outputs": [],
   "source": [
    "import pandas as pd\n",
    "import numpy as np\n",
    "import seaborn as sns\n",
    "import pymysql\n",
    "import matplotlib.pyplot as plt\n",
    "from matplotlib.ticker import FuncFormatter\n",
    "from matplotlib import cm\n",
    "import seaborn as sns\n",
    "\n",
    "import datetime, time\n",
    "import os, sys\n",
    "from pathlib import Path\n",
    "from tqdm import tqdm\n",
    "from datetime import datetime, timedelta\n",
    "\n",
    "from sklearn.tree import DecisionTreeClassifier, DecisionTreeRegressor, export_graphviz, _tree\n",
    "from sklearn.linear_model import LinearRegression, LogisticRegression\n",
    "from sklearn.model_selection import train_test_split, GridSearchCV, learning_curve\n",
    "from sklearn.metrics import roc_auc_score, roc_curve, mean_squared_error, make_scorer\n",
    "import graphviz\n",
    "\n",
    "import statsmodels.api as sm\n",
    "from scipy.stats import spearmanr"
   ]
  },
  {
   "cell_type": "code",
   "execution_count": 1,
   "id": "spoken-engine",
   "metadata": {},
   "outputs": [],
   "source": [
    "import warnings\n",
    "warnings.filterwarnings(action='ignore')"
   ]
  },
  {
   "cell_type": "code",
   "execution_count": 4,
   "id": "6660c503",
   "metadata": {},
   "outputs": [],
   "source": [
    "plot_style = plt.style.available\n",
    "# pd.options.display.float_format = '{:.5f}'.format\n",
    "# pd.set_option('display.max_row', 500)\n",
    "pd.set_option('display.max_rows', 500)"
   ]
  },
  {
   "cell_type": "code",
   "execution_count": 5,
   "id": "0ef3b81c",
   "metadata": {},
   "outputs": [],
   "source": [
    "# plt.style.use('ggplot')\n",
    "# plt.style.use('default')\n",
    "# plt.style.use('fivethirtyeight')\n",
    "plt.style.use('seaborn-paper')\n",
    "# plt.style.use('seaborn-muted')"
   ]
  },
  {
   "cell_type": "code",
   "execution_count": 6,
   "id": "97531c0b",
   "metadata": {},
   "outputs": [],
   "source": [
    "pd.set_option('display.expand_frame_repr', False)\n",
    "np.random.seed(42)"
   ]
  },
  {
   "cell_type": "code",
   "execution_count": 7,
   "id": "58862e57",
   "metadata": {},
   "outputs": [],
   "source": [
    "PROJECT_DIR = Path('.')\n",
    "DATA_DIR = Path(PROJECT_DIR, 'data')"
   ]
  },
  {
   "cell_type": "code",
   "execution_count": 8,
   "id": "ab59a580",
   "metadata": {},
   "outputs": [
    {
     "name": "stdout",
     "output_type": "stream",
     "text": [
      ". data\n"
     ]
    }
   ],
   "source": [
    "print(PROJECT_DIR, DATA_DIR)"
   ]
  },
  {
   "cell_type": "markdown",
   "id": "5c55c9e2",
   "metadata": {},
   "source": [
    "## Load Data (1-second)"
   ]
  },
  {
   "cell_type": "code",
   "execution_count": 14,
   "id": "21f00203",
   "metadata": {},
   "outputs": [
    {
     "name": "stdout",
     "output_type": "stream",
     "text": [
      "<class 'pandas.io.pytables.HDFStore'>\n",
      "File path: microbe_data_1s.h5\n",
      "/microbe/sensers/1sec_mean            frame        (shape->[1313754,17])\n"
     ]
    }
   ],
   "source": [
    "with pd.HDFStore(PROJECT_DIR/'microbe_data_1s.h5') as store:\n",
    "    print(store.info())\n",
    "    df_01 = store['/microbe/sensers/1sec_mean']\n",
    "\n",
    "# df_01 = pd.read_hdf('microbe_data_1s.h5', '/microbe/sensors/1sec_mean')\n",
    "# df_01.info()"
   ]
  },
  {
   "cell_type": "code",
   "execution_count": 30,
   "id": "fd5b73c3",
   "metadata": {},
   "outputs": [
    {
     "name": "stdout",
     "output_type": "stream",
     "text": [
      "<class 'pandas.core.frame.DataFrame'>\n",
      "MultiIndex: 1313754 entries, ('C.albicans_sensor_1_000_1', Timestamp('2023-09-11 11:00:37')) to ('S.epidermidis_sensor_3_120_1', Timestamp('2023-10-06 01:11:58'))\n",
      "Data columns (total 17 columns):\n",
      " #   Column         Non-Null Count    Dtype  \n",
      "---  ------         --------------    -----  \n",
      " 0   TGS2600        1302568 non-null  float64\n",
      " 1   TGS2602        1300634 non-null  float64\n",
      " 2   TGS2603        1301748 non-null  float64\n",
      " 3   TGS2620        1302197 non-null  float64\n",
      " 4   TGS2610        1301220 non-null  float64\n",
      " 5   TGS822         1300517 non-null  float64\n",
      " 6   MQ2            1301531 non-null  float64\n",
      " 7   MQ3            0 non-null        float64\n",
      " 8   MQ4            1302506 non-null  float64\n",
      " 9   MQ5            0 non-null        float64\n",
      " 10  MQ6            0 non-null        float64\n",
      " 11  MQ7            1302414 non-null  float64\n",
      " 12  MQ8            1301943 non-null  float64\n",
      " 13  MQ9            0 non-null        float64\n",
      " 14  MQ135          1301908 non-null  float64\n",
      " 15  CYCLE          1305045 non-null  float64\n",
      " 16  TIME_RELATIVE  1305045 non-null  float64\n",
      "dtypes: float64(17)\n",
      "memory usage: 220.3+ MB\n"
     ]
    }
   ],
   "source": [
    "df = df_01.copy()\n",
    "df.info()"
   ]
  },
  {
   "cell_type": "code",
   "execution_count": 31,
   "id": "aed0ba41",
   "metadata": {},
   "outputs": [],
   "source": [
    "columns = ['TGS2600', 'TGS2602', 'TGS2603', 'TGS2620', 'TGS2610', 'TGS822', \n",
    "           'MQ2', 'MQ3', 'MQ4', 'MQ5', 'MQ6', 'MQ7', 'MQ8', 'MQ9', 'MQ135',\n",
    "           'CYCLE', 'TIME_RELATIVE']\n",
    "\n",
    "available_senosrs = ['TGS2600', 'TGS2602', 'TGS2603', 'TGS2620', 'TGS2610', 'TGS822', \n",
    "                     'MQ2', 'MQ4','MQ7', 'MQ8', 'MQ135']\n",
    "\n",
    "non_available_senosrs = ['MQ3', 'MQ5', 'MQ6', 'MQ9']"
   ]
  },
  {
   "cell_type": "code",
   "execution_count": 33,
   "id": "2b63abc4",
   "metadata": {},
   "outputs": [
    {
     "data": {
      "text/html": [
       "<div>\n",
       "<style scoped>\n",
       "    .dataframe tbody tr th:only-of-type {\n",
       "        vertical-align: middle;\n",
       "    }\n",
       "\n",
       "    .dataframe tbody tr th {\n",
       "        vertical-align: top;\n",
       "    }\n",
       "\n",
       "    .dataframe thead th {\n",
       "        text-align: right;\n",
       "    }\n",
       "</style>\n",
       "<table border=\"1\" class=\"dataframe\">\n",
       "  <thead>\n",
       "    <tr style=\"text-align: right;\">\n",
       "      <th></th>\n",
       "      <th></th>\n",
       "      <th>TGS2600</th>\n",
       "      <th>TGS2602</th>\n",
       "      <th>TGS2603</th>\n",
       "      <th>TGS2620</th>\n",
       "      <th>TGS2610</th>\n",
       "      <th>TGS822</th>\n",
       "      <th>MQ2</th>\n",
       "      <th>MQ4</th>\n",
       "      <th>MQ7</th>\n",
       "      <th>MQ8</th>\n",
       "      <th>MQ135</th>\n",
       "    </tr>\n",
       "    <tr>\n",
       "      <th>SAMPLE_CYCLE_VOC</th>\n",
       "      <th>TIME</th>\n",
       "      <th></th>\n",
       "      <th></th>\n",
       "      <th></th>\n",
       "      <th></th>\n",
       "      <th></th>\n",
       "      <th></th>\n",
       "      <th></th>\n",
       "      <th></th>\n",
       "      <th></th>\n",
       "      <th></th>\n",
       "      <th></th>\n",
       "    </tr>\n",
       "  </thead>\n",
       "  <tbody>\n",
       "    <tr>\n",
       "      <th rowspan=\"5\" valign=\"top\">C.albicans_sensor_1_000_1</th>\n",
       "      <th>2023-09-11 11:00:37</th>\n",
       "      <td>0.987000</td>\n",
       "      <td>1.237746</td>\n",
       "      <td>1.127573</td>\n",
       "      <td>1.096367</td>\n",
       "      <td>1.074478</td>\n",
       "      <td>0.417827</td>\n",
       "      <td>0.994416</td>\n",
       "      <td>0.919962</td>\n",
       "      <td>0.970140</td>\n",
       "      <td>1.025450</td>\n",
       "      <td>0.990485</td>\n",
       "    </tr>\n",
       "    <tr>\n",
       "      <th>2023-09-11 11:00:38</th>\n",
       "      <td>0.987000</td>\n",
       "      <td>1.237746</td>\n",
       "      <td>1.127573</td>\n",
       "      <td>1.096367</td>\n",
       "      <td>1.074478</td>\n",
       "      <td>0.417827</td>\n",
       "      <td>0.994416</td>\n",
       "      <td>0.919962</td>\n",
       "      <td>0.970140</td>\n",
       "      <td>1.025450</td>\n",
       "      <td>0.990485</td>\n",
       "    </tr>\n",
       "    <tr>\n",
       "      <th>2023-09-11 11:00:39</th>\n",
       "      <td>0.988125</td>\n",
       "      <td>1.237746</td>\n",
       "      <td>1.129157</td>\n",
       "      <td>1.099863</td>\n",
       "      <td>1.067678</td>\n",
       "      <td>0.417827</td>\n",
       "      <td>0.994416</td>\n",
       "      <td>0.912147</td>\n",
       "      <td>0.970140</td>\n",
       "      <td>1.025450</td>\n",
       "      <td>0.990485</td>\n",
       "    </tr>\n",
       "    <tr>\n",
       "      <th>2023-09-11 11:00:40</th>\n",
       "      <td>0.990000</td>\n",
       "      <td>1.241156</td>\n",
       "      <td>1.140243</td>\n",
       "      <td>1.101961</td>\n",
       "      <td>1.065411</td>\n",
       "      <td>0.417827</td>\n",
       "      <td>0.994416</td>\n",
       "      <td>0.911031</td>\n",
       "      <td>0.970140</td>\n",
       "      <td>1.025450</td>\n",
       "      <td>0.990485</td>\n",
       "    </tr>\n",
       "    <tr>\n",
       "      <th>2023-09-11 11:00:41</th>\n",
       "      <td>0.994500</td>\n",
       "      <td>1.247975</td>\n",
       "      <td>1.138659</td>\n",
       "      <td>1.107205</td>\n",
       "      <td>1.062010</td>\n",
       "      <td>0.417827</td>\n",
       "      <td>0.994416</td>\n",
       "      <td>0.918846</td>\n",
       "      <td>0.968049</td>\n",
       "      <td>1.025450</td>\n",
       "      <td>0.990485</td>\n",
       "    </tr>\n",
       "    <tr>\n",
       "      <th>...</th>\n",
       "      <th>...</th>\n",
       "      <td>...</td>\n",
       "      <td>...</td>\n",
       "      <td>...</td>\n",
       "      <td>...</td>\n",
       "      <td>...</td>\n",
       "      <td>...</td>\n",
       "      <td>...</td>\n",
       "      <td>...</td>\n",
       "      <td>...</td>\n",
       "      <td>...</td>\n",
       "      <td>...</td>\n",
       "    </tr>\n",
       "    <tr>\n",
       "      <th rowspan=\"5\" valign=\"top\">S.epidermidis_sensor_3_120_1</th>\n",
       "      <th>2023-10-06 01:11:54</th>\n",
       "      <td>1.112317</td>\n",
       "      <td>0.961582</td>\n",
       "      <td>0.589669</td>\n",
       "      <td>1.223003</td>\n",
       "      <td>1.104757</td>\n",
       "      <td>0.455466</td>\n",
       "      <td>1.077199</td>\n",
       "      <td>0.988885</td>\n",
       "      <td>0.955273</td>\n",
       "      <td>1.088651</td>\n",
       "      <td>1.045023</td>\n",
       "    </tr>\n",
       "    <tr>\n",
       "      <th>2023-10-06 01:11:55</th>\n",
       "      <td>1.098308</td>\n",
       "      <td>0.961582</td>\n",
       "      <td>0.581364</td>\n",
       "      <td>1.221167</td>\n",
       "      <td>1.104757</td>\n",
       "      <td>0.455466</td>\n",
       "      <td>1.071872</td>\n",
       "      <td>0.981219</td>\n",
       "      <td>0.955273</td>\n",
       "      <td>1.088651</td>\n",
       "      <td>1.043781</td>\n",
       "    </tr>\n",
       "    <tr>\n",
       "      <th>2023-10-06 01:11:56</th>\n",
       "      <td>1.098308</td>\n",
       "      <td>0.961582</td>\n",
       "      <td>0.582748</td>\n",
       "      <td>1.223615</td>\n",
       "      <td>1.104757</td>\n",
       "      <td>0.455466</td>\n",
       "      <td>1.071872</td>\n",
       "      <td>0.981219</td>\n",
       "      <td>0.955273</td>\n",
       "      <td>1.088651</td>\n",
       "      <td>1.052479</td>\n",
       "    </tr>\n",
       "    <tr>\n",
       "      <th>2023-10-06 01:11:57</th>\n",
       "      <td>1.098308</td>\n",
       "      <td>0.961582</td>\n",
       "      <td>0.591053</td>\n",
       "      <td>1.225452</td>\n",
       "      <td>1.104757</td>\n",
       "      <td>0.478239</td>\n",
       "      <td>1.071872</td>\n",
       "      <td>0.988885</td>\n",
       "      <td>0.955273</td>\n",
       "      <td>1.088651</td>\n",
       "      <td>1.052479</td>\n",
       "    </tr>\n",
       "    <tr>\n",
       "      <th>2023-10-06 01:11:58</th>\n",
       "      <td>1.098308</td>\n",
       "      <td>0.961582</td>\n",
       "      <td>0.591053</td>\n",
       "      <td>1.225452</td>\n",
       "      <td>1.104757</td>\n",
       "      <td>0.546559</td>\n",
       "      <td>1.071872</td>\n",
       "      <td>0.988885</td>\n",
       "      <td>0.955273</td>\n",
       "      <td>1.088651</td>\n",
       "      <td>1.052479</td>\n",
       "    </tr>\n",
       "  </tbody>\n",
       "</table>\n",
       "<p>1313754 rows × 11 columns</p>\n",
       "</div>"
      ],
      "text/plain": [
       "                                                   TGS2600   TGS2602   TGS2603   TGS2620   TGS2610    TGS822       MQ2       MQ4       MQ7       MQ8     MQ135\n",
       "SAMPLE_CYCLE_VOC             TIME                                                                                                                             \n",
       "C.albicans_sensor_1_000_1    2023-09-11 11:00:37  0.987000  1.237746  1.127573  1.096367  1.074478  0.417827  0.994416  0.919962  0.970140  1.025450  0.990485\n",
       "                             2023-09-11 11:00:38  0.987000  1.237746  1.127573  1.096367  1.074478  0.417827  0.994416  0.919962  0.970140  1.025450  0.990485\n",
       "                             2023-09-11 11:00:39  0.988125  1.237746  1.129157  1.099863  1.067678  0.417827  0.994416  0.912147  0.970140  1.025450  0.990485\n",
       "                             2023-09-11 11:00:40  0.990000  1.241156  1.140243  1.101961  1.065411  0.417827  0.994416  0.911031  0.970140  1.025450  0.990485\n",
       "                             2023-09-11 11:00:41  0.994500  1.247975  1.138659  1.107205  1.062010  0.417827  0.994416  0.918846  0.968049  1.025450  0.990485\n",
       "...                                                    ...       ...       ...       ...       ...       ...       ...       ...       ...       ...       ...\n",
       "S.epidermidis_sensor_3_120_1 2023-10-06 01:11:54  1.112317  0.961582  0.589669  1.223003  1.104757  0.455466  1.077199  0.988885  0.955273  1.088651  1.045023\n",
       "                             2023-10-06 01:11:55  1.098308  0.961582  0.581364  1.221167  1.104757  0.455466  1.071872  0.981219  0.955273  1.088651  1.043781\n",
       "                             2023-10-06 01:11:56  1.098308  0.961582  0.582748  1.223615  1.104757  0.455466  1.071872  0.981219  0.955273  1.088651  1.052479\n",
       "                             2023-10-06 01:11:57  1.098308  0.961582  0.591053  1.225452  1.104757  0.478239  1.071872  0.988885  0.955273  1.088651  1.052479\n",
       "                             2023-10-06 01:11:58  1.098308  0.961582  0.591053  1.225452  1.104757  0.546559  1.071872  0.988885  0.955273  1.088651  1.052479\n",
       "\n",
       "[1313754 rows x 11 columns]"
      ]
     },
     "execution_count": 33,
     "metadata": {},
     "output_type": "execute_result"
    }
   ],
   "source": [
    "# df = df.drop(non_available_senosrs, axis=1)\n",
    "df = df[available_senosrs].fillna(method='bfill')\n",
    "df"
   ]
  },
  {
   "cell_type": "code",
   "execution_count": null,
   "id": "88b47439",
   "metadata": {},
   "outputs": [],
   "source": []
  },
  {
   "cell_type": "code",
   "execution_count": null,
   "id": "0fb5f8c8",
   "metadata": {},
   "outputs": [],
   "source": []
  },
  {
   "cell_type": "code",
   "execution_count": null,
   "id": "8e570f0e",
   "metadata": {},
   "outputs": [],
   "source": []
  },
  {
   "cell_type": "code",
   "execution_count": null,
   "id": "b7f163b1",
   "metadata": {},
   "outputs": [],
   "source": []
  },
  {
   "cell_type": "code",
   "execution_count": null,
   "id": "71888cff",
   "metadata": {},
   "outputs": [],
   "source": []
  },
  {
   "cell_type": "code",
   "execution_count": null,
   "id": "b84f1202",
   "metadata": {},
   "outputs": [],
   "source": []
  },
  {
   "cell_type": "code",
   "execution_count": null,
   "id": "ce4da686",
   "metadata": {},
   "outputs": [],
   "source": []
  },
  {
   "cell_type": "code",
   "execution_count": null,
   "id": "ea45e378",
   "metadata": {},
   "outputs": [],
   "source": []
  },
  {
   "cell_type": "code",
   "execution_count": null,
   "id": "9a6334e5",
   "metadata": {},
   "outputs": [],
   "source": []
  },
  {
   "cell_type": "code",
   "execution_count": null,
   "id": "dc5a5fab",
   "metadata": {},
   "outputs": [],
   "source": []
  },
  {
   "cell_type": "code",
   "execution_count": null,
   "id": "76adc494",
   "metadata": {},
   "outputs": [],
   "source": []
  },
  {
   "cell_type": "code",
   "execution_count": null,
   "id": "24f663a9",
   "metadata": {},
   "outputs": [],
   "source": []
  },
  {
   "cell_type": "code",
   "execution_count": null,
   "id": "b94b76fd",
   "metadata": {},
   "outputs": [],
   "source": []
  },
  {
   "cell_type": "code",
   "execution_count": null,
   "id": "molecular-enzyme",
   "metadata": {},
   "outputs": [],
   "source": []
  }
 ],
 "metadata": {
  "kernelspec": {
   "display_name": "Python 3 (ipykernel)",
   "language": "python",
   "name": "python3"
  },
  "language_info": {
   "codemirror_mode": {
    "name": "ipython",
    "version": 3
   },
   "file_extension": ".py",
   "mimetype": "text/x-python",
   "name": "python",
   "nbconvert_exporter": "python",
   "pygments_lexer": "ipython3",
   "version": "3.8.16"
  }
 },
 "nbformat": 4,
 "nbformat_minor": 5
}
