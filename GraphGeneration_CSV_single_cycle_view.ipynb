{
 "cells": [
  {
   "cell_type": "markdown",
   "id": "db67e785",
   "metadata": {},
   "source": [
    "### Processor\n",
    "* VOC_duration : 3sec\n",
    "* Wash_Out : 8min\n",
    "\n",
    "### Sensors\n",
    "+ TGS : TGS2600, TGS2602, TGS2603, TGS2610, TGS2620\n",
    "+ MQ : MQ2, MQ3, MQ4, MQ5, MQ6, MQ7, MQ8, MQ9, MQ135\n",
    "\n",
    "### VOC\n",
    "1. C.albicans\n",
    "2. C.glabrata\n",
    "3. E.coli\n",
    "4. K.pneumoniae\n",
    "5. S.aureus\n",
    "6. S.epidermidis"
   ]
  },
  {
   "cell_type": "code",
   "execution_count": 1,
   "id": "spoken-engine",
   "metadata": {},
   "outputs": [],
   "source": [
    "import pandas as pd\n",
    "import numpy as np\n",
    "import seaborn as sns\n",
    "import pymysql\n",
    "import matplotlib.pyplot as plt\n",
    "# import config\n",
    "import datetime, time\n",
    "import os\n",
    "from pathlib import Path\n",
    "from tqdm import tqdm\n",
    "from datetime import datetime, timedelta\n",
    "\n",
    "import warnings\n",
    "warnings.filterwarnings(action='ignore')"
   ]
  },
  {
   "cell_type": "code",
   "execution_count": 2,
   "id": "6660c503",
   "metadata": {},
   "outputs": [],
   "source": [
    "plot_style = plt.style.available\n",
    "# pd.options.display.float_format = '{:.5f}'.format\n",
    "# pd.set_option('display.max_row', 500)\n",
    "pd.set_option('display.max_rows', 500)"
   ]
  },
  {
   "cell_type": "code",
   "execution_count": 3,
   "id": "0ef3b81c",
   "metadata": {},
   "outputs": [],
   "source": [
    "# plt.style.use('ggplot')\n",
    "# plt.style.use('default')\n",
    "# plt.style.use('fivethirtyeight')\n",
    "plt.style.use('seaborn-paper')\n",
    "# plt.style.use('seaborn-muted')"
   ]
  },
  {
   "cell_type": "code",
   "execution_count": 4,
   "id": "97531c0b",
   "metadata": {},
   "outputs": [],
   "source": [
    "pd.set_option('display.expand_frame_repr', False)\n",
    "np.random.seed(42)"
   ]
  },
  {
   "cell_type": "code",
   "execution_count": 5,
   "id": "ab59a580",
   "metadata": {},
   "outputs": [
    {
     "data": {
      "text/plain": [
       "'./data/Microbe_data/'"
      ]
     },
     "execution_count": 5,
     "metadata": {},
     "output_type": "execute_result"
    }
   ],
   "source": [
    "path = os.getcwd()\n",
    "data_dir = './data/Microbe_data/'\n",
    "data_dir"
   ]
  },
  {
   "cell_type": "code",
   "execution_count": 6,
   "id": "21f00203",
   "metadata": {},
   "outputs": [],
   "source": [
    "file_list = os.listdir(data_dir)\n",
    "sensor_files = sorted([file for file in file_list if \"sensor\" in file])\n",
    "# sensor_files\n",
    "valve_files = sorted([file for file in file_list if \"valve\" in file])\n",
    "# valve_files"
   ]
  },
  {
   "cell_type": "code",
   "execution_count": 7,
   "id": "a321466d",
   "metadata": {},
   "outputs": [
    {
     "data": {
      "text/plain": [
       "[('C.albicans_sensor_1 (1).csv', 'C.albicans_valve_1 (1).csv'),\n",
       " ('C.albicans_sensor_2 (1).csv', 'C.albicans_valve_2 (1).csv'),\n",
       " ('C.glabrata_sensor_1 (1).csv', 'C.glabrata_valve_1 (1).csv'),\n",
       " ('C.glabrata_sensor_2 (1).csv', 'C.glabrata_valve_2 (1).csv'),\n",
       " ('C.para_sensor_1 (1).csv', 'C.para_valve_1 (1).csv'),\n",
       " ('C.para_sensor_2 (1).csv', 'C.para_valve_2 (1).csv'),\n",
       " ('C.para_sensor_3 (1).csv', 'C.para_valve_3 (1).csv'),\n",
       " ('E.coli_sensor_1 (1).csv', 'E.coli_valve_1 (1).csv'),\n",
       " ('E.coli_sensor_2 (1).csv', 'E.coli_valve_2 (1).csv'),\n",
       " ('E.coli_sensor_3 (1).csv', 'E.coli_valve_3 (1).csv'),\n",
       " ('K.pneumoniae_sensor_1 (1).csv', 'K.pneumoniae_valve_1 (1).csv'),\n",
       " ('K.pneumoniae_sensor_2 (1).csv', 'K.pneumoniae_valve_2 (1).csv'),\n",
       " ('S.aureus_sensor_1 (1).csv', 'S.aureus_valve_1 (1).csv'),\n",
       " ('S.aureus_sensor_2 (1).csv', 'S.aureus_valve_2 (1).csv'),\n",
       " ('S.aureus_sensor_3 (1).csv', 'S.aureus_valve_3 (1).csv'),\n",
       " ('S.epidermidis_sensor_1 (1).csv', 'S.epidermidis_valve_1 (1).csv'),\n",
       " ('S.epidermidis_sensor_2 (1).csv', 'S.epidermidis_valve_2 (1).csv'),\n",
       " ('S.epidermidis_sensor_3 (1).csv', 'S.epidermidis_valve_3 (1).csv')]"
      ]
     },
     "execution_count": 7,
     "metadata": {},
     "output_type": "execute_result"
    }
   ],
   "source": [
    "sensor_valve_pair = [(sensor, valve) for sensor, valve in zip(sensor_files, valve_files)]\n",
    "sensor_valve_pair"
   ]
  },
  {
   "cell_type": "code",
   "execution_count": 8,
   "id": "942314b1",
   "metadata": {},
   "outputs": [
    {
     "name": "stdout",
     "output_type": "stream",
     "text": [
      "result\n"
     ]
    }
   ],
   "source": [
    "PROJECT_DIR = Path('.')\n",
    "RESULT_DIR = Path(PROJECT_DIR, 'result')\n",
    "print(RESULT_DIR)"
   ]
  },
  {
   "cell_type": "code",
   "execution_count": 9,
   "id": "ef72cc84",
   "metadata": {},
   "outputs": [],
   "source": [
    "def createDirectory(directory):\n",
    "    try:\n",
    "        if not os.path.exists(directory):\n",
    "            os.makedirs(directory)\n",
    "    except OSError:\n",
    "        print(\"Error: Failed to create the directory.\")"
   ]
  },
  {
   "cell_type": "code",
   "execution_count": 20,
   "id": "181a53dc",
   "metadata": {
    "scrolled": true
   },
   "outputs": [
    {
     "name": "stderr",
     "output_type": "stream",
     "text": [
      "100% 18/18 [00:09<00:00,  1.85it/s]\n"
     ]
    }
   ],
   "source": [
    "total_cycles = []\n",
    "for sensor_file, valve_file in tqdm(sensor_valve_pair[:]):\n",
    "    df_sensor = pd.read_csv(f'{data_dir}{sensor_file}')\n",
    "    df_sensor['Time'] = pd.to_datetime(df_sensor['Time'])\n",
    "    df_sensor.set_index('Time', inplace=True)\n",
    "    df_sensor = df_sensor.drop(['Time.1'], axis=1).replace(0, np.nan)\n",
    "    \n",
    "    df_valve = pd.read_csv(f'{data_dir}{valve_file}')\n",
    "    df_valve['Time'] = pd.to_datetime(df_valve['Time'])\n",
    "    df_valve.set_index('Time', inplace=True)\n",
    "    df_valve = df_valve.drop(['Time.1', 'd_num'], axis=1).replace(0, np.nan)\n",
    "    \n",
    "    sensors = ['TGS2600', 'TGS2602', 'TGS2603', 'TGS2620', 'TGS2610', 'TGS822', \n",
    "               'MQ2', 'MQ3', 'MQ4', 'MQ5', 'MQ6', 'MQ7', 'MQ8', 'MQ9', 'MQ135']\n",
    "#     sample = sensor_file.split(' ')[0].split('_')[0]\n",
    "    sample = sensor_file.split(' ')[0]\n",
    "    \n",
    "    path = Path(RESULT_DIR, 'figure', '8min', sample)\n",
    "    createDirectory(path)\n",
    "    \n",
    "    cycles = []\n",
    "    for i in range(len(df_valve)-1):\n",
    "        cycle_temp = {}\n",
    "        if df_valve.iloc[i]['VOC'] == df_valve.iloc[i+1]['VOC']:\n",
    "            cycle_temp['sample'] = sample\n",
    "            cycle_temp['cycle'] = int(i/2)\n",
    "            cycle_temp['VOC'] = df_valve.iloc[i]['VOC'].astype(int)\n",
    "            cycle_temp['cycle_start'] = df_valve.index[i] - pd.Timedelta(seconds=4)\n",
    "            cycle_temp['valve_open'] = df_valve.index[i]\n",
    "            cycle_temp['valve_close'] = df_valve.index[i+1]\n",
    "            cycle_temp['cycle_end'] = df_valve.index[i]+ pd.Timedelta(minutes=8)\n",
    "\n",
    "            cycles.append(cycle_temp)\n",
    "            total_cycles.append(cycle_temp)\n",
    "            \n",
    "#     print(cycles)\n",
    "\n",
    "\n",
    "######################################################\n",
    "# Figure generation (every single cycle)\n",
    "######################################################\n",
    "            \n",
    "#     print(f'Cycle 총수: {len(cycles)}')\n",
    "        \n",
    "    for idx, cycle in enumerate(cycles[:]):\n",
    "        cycle_cond = (cycle['cycle_start'] < df_sensor.index)  & (df_sensor.index < cycle['cycle_end'])\n",
    "    \n",
    "        title = str(sample) + ' VOC' + str(int(cycle['VOC']))\n",
    "        title = title   + ' Cycle_' + str(idx).zfill(3) + '-' + str(len(cycles))\n",
    "\n",
    "        plt.figure(figsize=(9, 6))\n",
    "        try:\n",
    "            for sensor in sensors:\n",
    "                df_sensor[cycle_cond][sensor].dropna().plot()\n",
    "                plt.title(title, fontsize=14, loc=\"left\")\n",
    "                plt.legend(loc='upper left', bbox_to_anchor=(0.95, 1))\n",
    "                plt.axvspan(cycle['valve_open'], cycle['valve_close'], color=\"gray\", alpha=0.01)\n",
    "        except IndexError as e:\n",
    "            print(e)\n",
    "            print()\n",
    "        plt.savefig(str(path)+'/'+title+'.png')\n",
    "        plt.show()"
   ]
  },
  {
   "cell_type": "markdown",
   "id": "de32bc82",
   "metadata": {},
   "source": []
  },
  {
   "cell_type": "code",
   "execution_count": null,
   "id": "retired-electricity",
   "metadata": {},
   "outputs": [],
   "source": []
  },
  {
   "cell_type": "code",
   "execution_count": null,
   "id": "molecular-enzyme",
   "metadata": {},
   "outputs": [],
   "source": []
  }
 ],
 "metadata": {
  "kernelspec": {
   "display_name": "Python 3 (ipykernel)",
   "language": "python",
   "name": "python3"
  },
  "language_info": {
   "codemirror_mode": {
    "name": "ipython",
    "version": 3
   },
   "file_extension": ".py",
   "mimetype": "text/x-python",
   "name": "python",
   "nbconvert_exporter": "python",
   "pygments_lexer": "ipython3",
   "version": "3.8.16"
  }
 },
 "nbformat": 4,
 "nbformat_minor": 5
}
