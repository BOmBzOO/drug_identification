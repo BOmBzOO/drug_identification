{
 "cells": [
  {
   "cell_type": "markdown",
   "id": "db67e785",
   "metadata": {},
   "source": [
    "### Processor\n",
    "* VOC_duration : 3sec\n",
    "* Wash_Out : 8min\n",
    "\n",
    "### Sensors\n",
    "+ TGS : TGS2600, TGS2602, TGS2603, TGS2610, TGS2620\n",
    "+ MQ : MQ2, MQ3, MQ4, MQ5, MQ6, MQ7, MQ8, MQ9, MQ135\n",
    "\n",
    "### VOC\n",
    "1. C.albicans\n",
    "2. C.glabrata\n",
    "3. E.coli\n",
    "4. K.pneumoniae\n",
    "5. S.aureus\n",
    "6. S.epidermidis"
   ]
  },
  {
   "cell_type": "code",
   "execution_count": 1,
   "id": "spoken-engine",
   "metadata": {},
   "outputs": [],
   "source": [
    "import pandas as pd\n",
    "import numpy as np\n",
    "import seaborn as sns\n",
    "import pymysql\n",
    "import matplotlib.pyplot as plt\n",
    "# import config\n",
    "import datetime, time\n",
    "import os\n",
    "from pathlib import Path\n",
    "from tqdm import tqdm\n",
    "from datetime import datetime, timedelta\n",
    "\n",
    "import warnings\n",
    "warnings.filterwarnings(action='ignore')"
   ]
  },
  {
   "cell_type": "code",
   "execution_count": 2,
   "id": "6660c503",
   "metadata": {},
   "outputs": [],
   "source": [
    "plot_style = plt.style.available\n",
    "# pd.options.display.float_format = '{:.5f}'.format\n",
    "# pd.set_option('display.max_row', 500)\n",
    "pd.set_option('display.max_rows', 500)"
   ]
  },
  {
   "cell_type": "code",
   "execution_count": 3,
   "id": "0ef3b81c",
   "metadata": {},
   "outputs": [],
   "source": [
    "# plt.style.use('ggplot')\n",
    "# plt.style.use('default')\n",
    "# plt.style.use('fivethirtyeight')\n",
    "plt.style.use('seaborn-paper')\n",
    "# plt.style.use('seaborn-muted')"
   ]
  },
  {
   "cell_type": "code",
   "execution_count": 145,
   "id": "97531c0b",
   "metadata": {},
   "outputs": [],
   "source": [
    "pd.set_option('display.expand_frame_repr', False)\n",
    "np.random.seed(42)"
   ]
  },
  {
   "cell_type": "code",
   "execution_count": 9,
   "id": "58862e57",
   "metadata": {},
   "outputs": [],
   "source": [
    "PROJECT_DIR = Path('.')\n",
    "DATA_DIR = PROJECT_DIR / 'data'"
   ]
  },
  {
   "cell_type": "code",
   "execution_count": 12,
   "id": "ab59a580",
   "metadata": {},
   "outputs": [
    {
     "name": "stdout",
     "output_type": "stream",
     "text": [
      ". data\n"
     ]
    }
   ],
   "source": [
    "print(PROJECT_DIR, DATA_DIR)"
   ]
  },
  {
   "cell_type": "code",
   "execution_count": 135,
   "id": "21f00203",
   "metadata": {},
   "outputs": [
    {
     "name": "stdout",
     "output_type": "stream",
     "text": [
      "<class 'pandas.io.pytables.HDFStore'>\n",
      "File path: microbe_data_01.h5\n",
      "/microbe/raw_data            frame        (shape->[7166968,20])\n"
     ]
    }
   ],
   "source": [
    "with pd.HDFStore(PROJECT_DIR/'microbe_data_01.h5') as store:\n",
    "    print(store.info())\n",
    "    df = store['microbe/raw_data']"
   ]
  },
  {
   "cell_type": "code",
   "execution_count": 137,
   "id": "a321466d",
   "metadata": {},
   "outputs": [
    {
     "name": "stdout",
     "output_type": "stream",
     "text": [
      "<class 'pandas.core.frame.DataFrame'>\n",
      "MultiIndex: 7166968 entries, ('C.albicans_sensor_1', 0, 0.0) to ('S.epidermidis_sensor_3', 120, 20.738000128)\n",
      "Data columns (total 20 columns):\n",
      " #   Column     Dtype         \n",
      "---  ------     -----         \n",
      " 0   Time       datetime64[ns]\n",
      " 1   TGS2600    float64       \n",
      " 2   TGS2602    float64       \n",
      " 3   TGS2603    float64       \n",
      " 4   TGS2620    float64       \n",
      " 5   TGS2610    float64       \n",
      " 6   TGS822     float64       \n",
      " 7   MQ2        float64       \n",
      " 8   MQ3        float64       \n",
      " 9   MQ4        float64       \n",
      " 10  MQ5        float64       \n",
      " 11  MQ6        float64       \n",
      " 12  MQ7        float64       \n",
      " 13  MQ8        float64       \n",
      " 14  MQ9        float64       \n",
      " 15  MQ135      float64       \n",
      " 16  stamp      float64       \n",
      " 17  VOC        int64         \n",
      " 18  FILE_NAME  object        \n",
      " 19  VALVE      object        \n",
      "dtypes: datetime64[ns](1), float64(16), int64(1), object(2)\n",
      "memory usage: 1.2+ GB\n"
     ]
    }
   ],
   "source": [
    "df.info()"
   ]
  },
  {
   "cell_type": "code",
   "execution_count": 138,
   "id": "d83090f3",
   "metadata": {},
   "outputs": [
    {
     "data": {
      "text/plain": [
       "Index(['C.albicans_sensor_1', 'C.albicans_sensor_1', 'C.albicans_sensor_1',\n",
       "       'C.albicans_sensor_1', 'C.albicans_sensor_1', 'C.albicans_sensor_1',\n",
       "       'C.albicans_sensor_1', 'C.albicans_sensor_1', 'C.albicans_sensor_1',\n",
       "       'C.albicans_sensor_1',\n",
       "       ...\n",
       "       'C.albicans_sensor_1', 'C.albicans_sensor_1', 'C.albicans_sensor_1',\n",
       "       'C.albicans_sensor_1', 'C.albicans_sensor_1', 'C.albicans_sensor_1',\n",
       "       'C.albicans_sensor_1', 'C.albicans_sensor_1', 'C.albicans_sensor_1',\n",
       "       'C.albicans_sensor_1'],\n",
       "      dtype='object', name='SAMPLE', length=2660)"
      ]
     },
     "execution_count": 138,
     "metadata": {},
     "output_type": "execute_result"
    }
   ],
   "source": [
    "df_temp.index.get_level_values(0)"
   ]
  },
  {
   "cell_type": "code",
   "execution_count": 139,
   "id": "560a6507",
   "metadata": {},
   "outputs": [],
   "source": [
    "sensors = ['TGS2600', 'TGS2602', 'TGS2603', 'TGS2620', 'TGS2610', 'TGS822', \n",
    "           'MQ2', 'MQ3', 'MQ4', 'MQ5', 'MQ6', 'MQ7', 'MQ8', 'MQ9', 'MQ135']"
   ]
  },
  {
   "cell_type": "code",
   "execution_count": 1,
   "id": "ff7e704f",
   "metadata": {
    "scrolled": false
   },
   "outputs": [
    {
     "ename": "NameError",
     "evalue": "name 'pd' is not defined",
     "output_type": "error",
     "traceback": [
      "\u001b[0;31m---------------------------------------------------------------------------\u001b[0m",
      "\u001b[0;31mNameError\u001b[0m                                 Traceback (most recent call last)",
      "Cell \u001b[0;32mIn[1], line 1\u001b[0m\n\u001b[0;32m----> 1\u001b[0m idx \u001b[38;5;241m=\u001b[39m \u001b[43mpd\u001b[49m\u001b[38;5;241m.\u001b[39mIndexSlice\n\u001b[1;32m      2\u001b[0m samples \u001b[38;5;241m=\u001b[39m df\u001b[38;5;241m.\u001b[39mindex\u001b[38;5;241m.\u001b[39mget_level_values(\u001b[38;5;124m'\u001b[39m\u001b[38;5;124mSAMPLE\u001b[39m\u001b[38;5;124m'\u001b[39m)\u001b[38;5;241m.\u001b[39munique()\u001b[38;5;241m.\u001b[39mtolist()\n\u001b[1;32m      4\u001b[0m \u001b[38;5;28;01mfor\u001b[39;00m sample \u001b[38;5;129;01min\u001b[39;00m samples[:]:\n",
      "\u001b[0;31mNameError\u001b[0m: name 'pd' is not defined"
     ]
    }
   ],
   "source": [
    "idx = pd.IndexSlice\n",
    "samples = df.index.get_level_values('SAMPLE').unique().tolist()\n",
    "\n",
    "for sample in samples[:]:\n",
    "    df_temp = df.loc[idx[str(sample), :, :], :]\n",
    "    cycles = df_temp.index.get_level_values('CYCLE').unique().tolist()\n",
    "\n",
    "    for cycle in cycles[:]:\n",
    "        df_temp_temp = df_temp.loc[idx[:, cycle:cycle, :], :]\n",
    "              \n",
    "        for sensor in sensors:\n",
    "            df_temp_sensor = df_temp_temp[sensor].dropna()\n",
    "#             plt.plot(df_temp_sensor.index.get_level_values(2), df_temp_sensor)\n",
    "            if len(df_temp_sensor) == 0:\n",
    "                continue\n",
    "            df_temp_sensor_ratio = df_temp_sensor\n",
    "#             df_temp_sensor_ratio = df_temp_sensor / df_temp_sensor[0] # 비율\n",
    "            plt.plot(df_temp_sensor_ratio.index.get_level_values('TIME_RELATIVE'), df_temp_sensor_ratio)\n",
    "#             plt.legend(sensors, loc='upper left', bbox_to_anchor=(1.02, 1))\n",
    "            valve_on = df_temp_temp[df_temp_temp['VALVE'] == 'open'].index.get_level_values('TIME_RELATIVE')\n",
    "            plt.axvspan(valve_on.min(), valve_on.max(), color=\"gray\", alpha=0.1)\n",
    "            \n",
    "        title = str(sample)\n",
    "        title = title + ', VOC: ' + str(df_temp_temp['VOC'].iloc[0])\n",
    "        title = title + ', Cycle: ' + str(cycle) + '/' + str(len(cycles))\n",
    "        plt.title(title, fontsize=13, loc=\"left\")\n",
    "#         plt.legend(loc='upper left', bbox_to_anchor=(1.02, 1))\n",
    "        plt.show()\n"
   ]
  },
  {
   "cell_type": "code",
   "execution_count": null,
   "id": "47c1d584",
   "metadata": {},
   "outputs": [],
   "source": []
  },
  {
   "cell_type": "code",
   "execution_count": null,
   "id": "ce4da686",
   "metadata": {},
   "outputs": [],
   "source": []
  },
  {
   "cell_type": "code",
   "execution_count": null,
   "id": "ea45e378",
   "metadata": {},
   "outputs": [],
   "source": []
  },
  {
   "cell_type": "code",
   "execution_count": null,
   "id": "9a6334e5",
   "metadata": {},
   "outputs": [],
   "source": []
  },
  {
   "cell_type": "code",
   "execution_count": null,
   "id": "dc5a5fab",
   "metadata": {},
   "outputs": [],
   "source": []
  },
  {
   "cell_type": "code",
   "execution_count": null,
   "id": "76adc494",
   "metadata": {},
   "outputs": [],
   "source": []
  },
  {
   "cell_type": "code",
   "execution_count": null,
   "id": "24f663a9",
   "metadata": {},
   "outputs": [],
   "source": []
  },
  {
   "cell_type": "code",
   "execution_count": null,
   "id": "b94b76fd",
   "metadata": {},
   "outputs": [],
   "source": []
  },
  {
   "cell_type": "code",
   "execution_count": null,
   "id": "molecular-enzyme",
   "metadata": {},
   "outputs": [],
   "source": []
  }
 ],
 "metadata": {
  "kernelspec": {
   "display_name": "Python 3 (ipykernel)",
   "language": "python",
   "name": "python3"
  },
  "language_info": {
   "codemirror_mode": {
    "name": "ipython",
    "version": 3
   },
   "file_extension": ".py",
   "mimetype": "text/x-python",
   "name": "python",
   "nbconvert_exporter": "python",
   "pygments_lexer": "ipython3",
   "version": "3.8.16"
  }
 },
 "nbformat": 4,
 "nbformat_minor": 5
}
